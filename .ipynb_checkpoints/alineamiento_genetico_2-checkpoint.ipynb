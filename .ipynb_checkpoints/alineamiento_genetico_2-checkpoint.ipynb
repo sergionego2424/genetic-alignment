{
 "cells": [
  {
   "cell_type": "code",
   "execution_count": 1,
   "id": "8778bf83-cd55-4835-a59a-c6654a1ad295",
   "metadata": {
    "tags": []
   },
   "outputs": [],
   "source": [
    "import numpy as np\n",
    "import matplotlib.pyplot as plt\n",
    "import random\n",
    "import pandas as pd\n",
    "import os\n",
    "from array import array"
   ]
  },
  {
   "cell_type": "markdown",
   "id": "4ce8cfdb-7263-4fac-a2db-aa1a454e9bf3",
   "metadata": {},
   "source": [
    "### GLOBAL VARIABLES"
   ]
  },
  {
   "cell_type": "code",
   "execution_count": 2,
   "id": "c329fedd-3b6b-4acf-99ba-4359079a7c93",
   "metadata": {
    "tags": []
   },
   "outputs": [],
   "source": [
    "GRAP_SIMBOL = '_'\n",
    "\n",
    "# Specify the path to your text file\n",
    "SEQUENCE_FILE = r\"Secuencias.txt\"\n",
    "#SEQUENCE_FILE = r'C:\\Users\\Sergio\\Documents\\Sergio Lopez\\Universidad\\6to semestre\\Analisis y modelacion de sistemas\\Alineamineto genetico\\Secuencias.txt'\n",
    "#SEQUENCE_FILE = r'C:\\Users\\Sergio\\Documents\\Sergio Lopez\\Universidad\\6to semestre\\Analisis y modelacion de sistemas\\Alineamineto genetico\\Secuencias_Nombres.txt'"
   ]
  },
  {
   "cell_type": "markdown",
   "id": "f045a5fc-b8c4-4af5-a728-30c7693970f9",
   "metadata": {},
   "source": [
    "### Code"
   ]
  },
  {
   "cell_type": "code",
   "execution_count": 3,
   "id": "c5eb9af5-8a09-4b88-9974-9ad7e32f205a",
   "metadata": {
    "tags": []
   },
   "outputs": [],
   "source": [
    "def insert_randomly(input_string, characters_to_insert):\n",
    "    new_string = list(input_string) \n",
    "    for char in characters_to_insert:\n",
    "        index = random.randint(0, len(new_string))\n",
    "        new_string.insert(index, char)\n",
    "    return ''.join(new_string)"
   ]
  },
  {
   "cell_type": "code",
   "execution_count": 4,
   "id": "9134ce46-20d2-4f48-aedf-dd0d2c4293a8",
   "metadata": {
    "tags": []
   },
   "outputs": [],
   "source": [
    "class Cell :\n",
    "    \n",
    "    def __init__(self, sequence):\n",
    "        self.sequence = sequence\n",
    "        self.width = len(sequence)\n",
    "        self.gaps_num = 0\n",
    "    \n",
    "    def muatate(self, gaps_num):\n",
    "        \n",
    "        for i in range(gaps_num) : \n",
    "            self.sequence = insert_randomly(self.sequence , GRAP_SIMBOL)#CHANGE THE 'M' CHARACTER TO '_'\n",
    "        self.width = len(self.sequence)"
   ]
  },
  {
   "cell_type": "code",
   "execution_count": 5,
   "id": "9595eefb-4f66-4133-939e-04c57fea4f8c",
   "metadata": {
    "tags": []
   },
   "outputs": [],
   "source": [
    "# Define a function to parse the sequences from the text file\n",
    "def parse_sequences(file_path):\n",
    "    sequences = []\n",
    "    with open(file_path, 'r') as file:\n",
    "        sequence = \"\"\n",
    "        for line in file:\n",
    "            line = line.strip()\n",
    "            if line.startswith(\">\"):\n",
    "                if sequence:\n",
    "                    sequences.append(sequence)\n",
    "                sequence = \"\"\n",
    "            else:\n",
    "                sequence += line\n",
    "        if sequence:\n",
    "            sequences.append(sequence)\n",
    "    return np.array(sequences)\n"
   ]
  },
  {
   "cell_type": "code",
   "execution_count": 6,
   "id": "0d987ca7-3e05-4cb2-a856-17cd2c9413f2",
   "metadata": {
    "tags": []
   },
   "outputs": [],
   "source": [
    "\n",
    "def create_main_data_set(SEQUENCE_FILE = '',sequence_array_parameter = np.array([]), mutate_lavel = 2):\n",
    "    #READ THE FILE AND EXTRACT HOW MANY CELLS IT HAS INVOLVE\n",
    "\n",
    "    cells_array = np.array([])\n",
    "    \n",
    "    \n",
    "    sequences_array = sequence_array_parameter\n",
    "    if len(sequence_array_parameter) == 0:\n",
    "        # Call the function to parse sequences and store them in a NumPy array\n",
    "        sequences_array = parse_sequences(SEQUENCE_FILE)\n",
    "    \n",
    "    \n",
    "        for i , sequence_string in enumerate(sequences_array):\n",
    "            random_word = sequence_string\n",
    "            #random_word = array_words[0] #REMOVE THIS LINE AND DISCOMMENT THE LAST ONE\n",
    "            cell = Cell(random_word)\n",
    "\n",
    "            if mutate_lavel == 1:\n",
    "                graps_num = random.randint(0, round(len(cell.sequence) / 4) )\n",
    "            if mutate_lavel == 2:\n",
    "                graps_num = random.randint(0, round(len(cell.sequence) / 2) )\n",
    "\n",
    "            cell.muatate(graps_num) \n",
    "            cell.sequence\n",
    "\n",
    "            cells_array = np.append(cells_array, cell)\n",
    "        return cells_array\n",
    "    else :\n",
    "        for i, cell in enumerate(sequences_array):\n",
    "            if mutate_lavel == 1:\n",
    "                        graps_num = random.randint(0, round(len(cell.sequence) / 4) )\n",
    "            if mutate_lavel == 2:\n",
    "                graps_num = random.randint(0, round(len(cell.sequence) / 2) )\n",
    "\n",
    "            cell.muatate(graps_num) \n",
    "            cell.sequence\n",
    "\n",
    "            cells_array = np.append(cells_array, cell)\n",
    "        \n",
    "    return cells_array\n",
    "        \n",
    "#cells_array = create_main_data_set(SEQUENCE_FILE, mutate_lavel = 1)\n",
    "#cells_array"
   ]
  },
  {
   "cell_type": "code",
   "execution_count": 7,
   "id": "ec7fd110-ee86-46fe-aaa7-a6d5788af6bc",
   "metadata": {
    "tags": []
   },
   "outputs": [],
   "source": [
    "def create_matrix_sequence(cells_array):\n",
    " \n",
    "    array_cells_width = np.array([cell.width for cell in cells_array])\n",
    "    \n",
    "    #MODIFY THE * TO _ \n",
    "    matrix_sequence = np.array([[GRAP_SIMBOL for _ in range(max(array_cells_width))] for _ in range(len(cells_array))])\n",
    "    \n",
    "    matrix_cells_sequence = [list(cell.sequence) for cell in cells_array]\n",
    "    \n",
    "\n",
    "    for i, row in enumerate(matrix_cells_sequence):\n",
    "        for j, column in enumerate(matrix_cells_sequence[i]):\n",
    "            matrix_sequence[i][j] = matrix_cells_sequence[i][j]\n",
    "    \n",
    "    return matrix_sequence\n",
    "#matrix_sequence = create_matrix_sequence(cells_array)\n",
    "\n",
    "#print(matrix_sequence.shape)\n",
    "#matrix_sequence"
   ]
  },
  {
   "cell_type": "code",
   "execution_count": 8,
   "id": "6336ba20-917a-42bc-8e7d-1e0c2c2a3aa9",
   "metadata": {
    "tags": []
   },
   "outputs": [],
   "source": [
    "def evaluation(matrix_sequence):\n",
    "    num_rows, num_columns = matrix_sequence.shape\n",
    "    same_value_columns = []\n",
    "    \n",
    "    #COUNT THE GOOD POINTS\n",
    "    for col in range(num_columns):\n",
    "        column_values = matrix_sequence[:, col]\n",
    "        if column_values[0] != GRAP_SIMBOL :\n",
    "            is_same = all(column_values == column_values[0])\n",
    "            same_value_columns.append(is_same)\n",
    "\n",
    "    #print(same_value_columns)\n",
    "    count_same_value_columns = np.count_nonzero(same_value_columns)\n",
    "        \n",
    "    good_points = num_rows * count_same_value_columns\n",
    "    \n",
    "    #COUNT THE BAD POINTS '_'\n",
    "    \n",
    "    bad_points = np.count_nonzero(matrix_sequence == GRAP_SIMBOL)\n",
    "    \n",
    "    return good_points , bad_points\n",
    "\n",
    "\n",
    "#matrix_sequence[ : , 1] = 'A' #JUST TO MAKE TESTES\n",
    "\n",
    "#good_points , bad_points = evaluation(matrix_sequence)\n",
    "\n",
    "\n",
    "\n",
    "#print(f\"The good points number : {good_points}\")\n",
    "#print(f\"The bad points number : {bad_points}\")"
   ]
  },
  {
   "cell_type": "code",
   "execution_count": 14,
   "id": "74207c90-b68d-423d-8468-cecde2aff56b",
   "metadata": {
    "tags": []
   },
   "outputs": [
    {
     "name": "stdout",
     "output_type": "stream",
     "text": [
      "[{'matrix_sequence': array([['A', 'A', 'G', ..., '_', '_', '_'],\n",
      "       ['_', '_', 'C', ..., 'G', 'T', 'C'],\n",
      "       ['_', 'C', 'T', ..., '_', '_', '_'],\n",
      "       ['A', 'A', 'G', ..., '_', '_', '_'],\n",
      "       ['C', 'A', '_', ..., '_', '_', '_'],\n",
      "       ['_', 'C', 'T', ..., '_', '_', '_']], dtype='<U1'), 'good_points': 291, 'bad_points': 464, 'average': 62.71551724137932}, {'matrix_sequence': array([['A', 'A', 'G', ..., '_', '_', '_'],\n",
      "       ['C', 'A', 'G', ..., 'G', 'T', 'C'],\n",
      "       ['C', 'T', 'T', ..., '_', '_', '_'],\n",
      "       ['A', 'A', 'G', ..., '_', '_', '_'],\n",
      "       ['C', 'A', 'G', ..., '_', '_', '_'],\n",
      "       ['C', 'T', 'T', ..., '_', '_', '_']], dtype='<U1'), 'good_points': 298, 'bad_points': 344, 'average': 86.62790697674419}, {'matrix_sequence': array([['_', 'A', 'A', ..., '_', '_', '_'],\n",
      "       ['C', 'A', '_', ..., '_', '_', '_'],\n",
      "       ['C', 'T', 'T', ..., '_', '_', '_'],\n",
      "       ['A', 'A', 'G', ..., '_', '_', '_'],\n",
      "       ['C', 'A', 'G', ..., 'T', 'C', '_'],\n",
      "       ['C', 'T', 'T', ..., '_', '_', '_']], dtype='<U1'), 'good_points': 299, 'bad_points': 392, 'average': 76.27551020408163}, {'matrix_sequence': array([['A', 'A', 'G', ..., '_', '_', '_'],\n",
      "       ['C', '_', 'A', ..., '_', '_', '_'],\n",
      "       ['C', 'T', 'T', ..., '_', '_', '_'],\n",
      "       ['_', 'A', 'A', ..., '_', '_', '_'],\n",
      "       ['_', 'C', 'A', ..., 'G', 'T', 'C'],\n",
      "       ['C', 'T', 'T', ..., '_', '_', '_']], dtype='<U1'), 'good_points': 302, 'bad_points': 452, 'average': 66.8141592920354}, {'matrix_sequence': array([['A', 'A', '_', 'G', 'T', 'A', 'G', 'G', 'A', 'A', 'T', '_', 'A',\n",
      "        'A', 'T', 'A', 'T', 'C', 'T', 'T', 'A', 'T', 'C', 'A', 'T', 'T',\n",
      "        'A', 'T', 'A', 'G', 'A', 'T', 'A', 'A', 'A', 'A', 'A', 'C', 'C',\n",
      "        'T', 'T', 'C', 'T', 'G', 'A', 'A', 'T', 'T', 'T', 'G', 'C', 'T',\n",
      "        'T', 'A', 'G', 'T', 'G', 'T', 'G', 'T', 'A', 'T', 'A', 'C', '_',\n",
      "        'G', 'A', 'C', 'T', 'A', 'G', 'A', 'C', 'A', 'T', 'A', 'T', 'A',\n",
      "        'T', 'C', 'A', 'G', 'C', 'T', '_', 'C', 'G', 'C', 'C', 'G', 'A',\n",
      "        'T', 'T', 'A', 'T', 'T', 'T', 'G', 'G', 'A', '_', 'T', 'T', 'A',\n",
      "        'T', 'T', 'C', 'C', '_', 'C', 'T', 'G', '_', '_', '_', '_', '_',\n",
      "        '_', '_', '_', '_', '_', '_', '_', '_', '_', '_', '_', '_', '_',\n",
      "        '_', '_', '_', '_', '_', '_', '_', '_', '_', '_', '_', '_', '_',\n",
      "        '_', '_', '_', '_', '_', '_', '_', '_', '_', '_', '_', '_', '_',\n",
      "        '_', '_', '_', '_', '_'],\n",
      "       ['C', 'A', 'G', 'T', 'A', 'A', 'A', 'G', 'A', 'G', 'T', 'G', 'G',\n",
      "        'A', 'T', 'G', 'T', 'A', 'A', 'G', 'A', 'A', 'C', 'C', 'G', 'T',\n",
      "        '_', 'C', 'C', 'G', 'A', 'T', 'C', 'T', 'A', 'C', 'C', 'A', 'G',\n",
      "        'A', 'T', 'G', 'T', 'G', 'A', 'T', 'A', 'G', 'A', 'G', 'G', 'T',\n",
      "        'T', 'G', 'C', 'C', 'A', '_', 'G', 'T', 'A', 'A', 'A', 'A', 'A',\n",
      "        'A', 'T', 'T', 'G', 'C', 'A', 'T', 'A', 'A', 'T', 'A', 'A', 'T',\n",
      "        'T', 'G', 'A', 'T', '_', 'T', 'A', 'A', 'T', 'C', 'C', 'T', 'T',\n",
      "        'T', 'A', 'A', 'T', 'A', 'T', 'T', 'G', 'T', 'T', 'T', 'A', 'G',\n",
      "        'A', 'A', '_', 'T', 'A', 'T', 'A', 'T', 'C', 'C', 'G', 'T', 'C',\n",
      "        'A', 'G', 'A', 'T', 'A', '_', 'A', 'T', 'C', 'C', 'T', 'A', 'A',\n",
      "        'A', 'A', 'A', 'T', '_', 'A', 'A', 'C', 'G', 'A', 'T', 'A', 'T',\n",
      "        'G', 'A', 'T', 'G', 'G', 'C', 'G', 'G', '_', 'A', 'A', 'A', 'T',\n",
      "        'C', 'G', 'T', 'C', '_'],\n",
      "       ['C', 'T', 'T', 'C', 'A', 'A', 'T', '_', 'T', 'A', 'C', 'C', 'C',\n",
      "        'T', 'G', 'C', 'T', 'G', 'A', 'C', 'G', 'C', 'G', '_', '_', 'A',\n",
      "        'G', 'A', 'T', 'A', 'C', 'C', 'T', 'T', 'A', 'T', 'G', 'C', 'A',\n",
      "        'T', 'C', 'G', '_', 'A', '_', 'A', 'G', 'G', 'T', 'A', 'A', '_',\n",
      "        'A', 'G', 'C', 'G', 'A', 'T', 'G', 'A', 'A', 'T', 'T', 'T', 'A',\n",
      "        '_', 'T', 'C', 'C', 'A', 'A', '_', 'G', 'G', 'T', 'T', 'T', 'T',\n",
      "        'A', 'A', 'T', 'T', '_', 'T', 'G', '_', '_', '_', '_', '_', '_',\n",
      "        '_', '_', '_', '_', '_', '_', '_', '_', '_', '_', '_', '_', '_',\n",
      "        '_', '_', '_', '_', '_', '_', '_', '_', '_', '_', '_', '_', '_',\n",
      "        '_', '_', '_', '_', '_', '_', '_', '_', '_', '_', '_', '_', '_',\n",
      "        '_', '_', '_', '_', '_', '_', '_', '_', '_', '_', '_', '_', '_',\n",
      "        '_', '_', '_', '_', '_', '_', '_', '_', '_', '_', '_', '_', '_',\n",
      "        '_', '_', '_', '_', '_'],\n",
      "       ['A', 'A', 'G', 'T', 'A', 'G', 'G', 'A', 'A', '_', 'T', 'A', 'A',\n",
      "        'T', 'A', 'T', 'C', 'T', 'T', 'A', 'T', 'C', 'A', '_', 'T', 'T',\n",
      "        'A', 'T', 'A', '_', 'G', 'A', 'T', 'A', 'A', 'A', 'A', 'A', 'C',\n",
      "        'C', 'T', 'T', 'C', 'T', 'G', 'A', 'A', 'T', 'T', 'T', 'G', 'C',\n",
      "        'T', 'T', 'A', 'G', 'T', 'G', 'T', 'G', 'T', 'A', 'T', 'A', 'C',\n",
      "        'G', 'A', 'C', 'T', 'A', 'G', 'A', 'C', 'A', 'T', 'A', 'T', 'A',\n",
      "        'T', 'C', 'A', 'G', '_', 'C', 'T', 'C', 'G', 'C', 'C', 'G', 'A',\n",
      "        'T', 'T', 'A', 'T', 'T', 'T', 'G', 'G', 'A', 'T', 'T', 'A', 'T',\n",
      "        'T', 'C', 'C', 'C', 'T', 'G', '_', '_', '_', '_', '_', '_', '_',\n",
      "        '_', '_', '_', '_', '_', '_', '_', '_', '_', '_', '_', '_', '_',\n",
      "        '_', '_', '_', '_', '_', '_', '_', '_', '_', '_', '_', '_', '_',\n",
      "        '_', '_', '_', '_', '_', '_', '_', '_', '_', '_', '_', '_', '_',\n",
      "        '_', '_', '_', '_', '_'],\n",
      "       ['C', 'A', 'G', '_', 'T', 'A', 'A', 'A', 'G', 'A', 'G', 'T', 'G',\n",
      "        'G', 'A', 'T', 'G', 'T', 'A', 'A', 'G', 'A', 'A', 'C', 'C', 'G',\n",
      "        'T', 'C', 'C', 'G', 'A', 'T', 'C', 'T', 'A', '_', 'C', 'C', 'A',\n",
      "        '_', 'G', 'A', 'T', 'G', 'T', 'G', 'A', '_', 'T', 'A', 'G', 'A',\n",
      "        'G', 'G', 'T', 'T', 'G', 'C', 'C', 'A', 'G', 'T', 'A', '_', 'A',\n",
      "        'A', 'A', 'A', 'A', 'T', 'T', 'G', 'C', 'A', 'T', 'A', 'A', 'T',\n",
      "        'A', 'A', 'T', 'T', 'G', 'A', 'T', 'T', 'A', 'A', 'T', 'C', '_',\n",
      "        'C', 'T', 'T', '_', 'T', 'A', 'A', 'T', 'A', 'T', 'T', 'G', 'T',\n",
      "        'T', 'T', 'A', 'G', 'A', 'A', 'T', 'A', 'T', 'A', 'T', 'C', 'C',\n",
      "        'G', 'T', 'C', 'A', 'G', 'A', 'T', 'A', 'A', 'T', 'C', 'C', 'T',\n",
      "        'A', 'A', 'A', 'A', 'A', 'T', 'A', '_', 'A', 'C', 'G', 'A', 'T',\n",
      "        'A', 'T', 'G', 'A', 'T', 'G', 'G', 'C', 'G', 'G', 'A', 'A', 'A',\n",
      "        'T', 'C', 'G', 'T', 'C'],\n",
      "       ['_', 'C', 'T', 'T', 'C', 'A', '_', '_', 'A', '_', 'T', 'T', '_',\n",
      "        'A', 'C', '_', 'C', '_', 'C', 'T', 'G', 'C', 'T', 'G', '_', 'A',\n",
      "        'C', '_', 'G', 'C', 'G', 'A', 'G', 'A', '_', 'T', '_', 'A', 'C',\n",
      "        'C', 'T', 'T', '_', 'A', 'T', 'G', 'C', 'A', '_', 'T', 'C', 'G',\n",
      "        'A', 'A', '_', 'G', 'G', 'T', 'A', 'A', '_', 'A', 'G', 'C', 'G',\n",
      "        '_', 'A', 'T', 'G', 'A', 'A', 'T', 'T', 'T', 'A', '_', 'T', 'C',\n",
      "        'C', 'A', 'A', 'G', 'G', '_', 'T', 'T', '_', 'T', 'T', 'A', 'A',\n",
      "        'T', 'T', 'T', 'G', '_', '_', '_', '_', '_', '_', '_', '_', '_',\n",
      "        '_', '_', '_', '_', '_', '_', '_', '_', '_', '_', '_', '_', '_',\n",
      "        '_', '_', '_', '_', '_', '_', '_', '_', '_', '_', '_', '_', '_',\n",
      "        '_', '_', '_', '_', '_', '_', '_', '_', '_', '_', '_', '_', '_',\n",
      "        '_', '_', '_', '_', '_', '_', '_', '_', '_', '_', '_', '_', '_',\n",
      "        '_', '_', '_', '_', '_']], dtype='<U1'), 'good_points': 302, 'bad_points': 296, 'average': 102.02702702702702}]\n"
     ]
    }
   ],
   "source": [
    "def iterator(N_ITERATIONS, data_set = []):\n",
    "    universe = []\n",
    "    \n",
    "    for i in range(N_ITERATIONS):\n",
    "        if len(data_set) == 0:\n",
    "            cells_array = create_main_data_set(SEQUENCE_FILE, mutate_lavel = 1)\n",
    "        else:\n",
    "            cells_array = create_main_data_set(sequence_array_parameter = data_set, mutate_lavel = 1)\n",
    "        matrix_sequence = create_matrix_sequence(cells_array)\n",
    "        good_points , bad_points = evaluation(matrix_sequence)\n",
    "        \n",
    "        content = {\n",
    "            'matrix_sequence' : matrix_sequence,\n",
    "            'good_points' : good_points,\n",
    "            'bad_points' : bad_points,\n",
    "            'average' : good_points / bad_points * 100\n",
    "        }\n",
    "        \n",
    "        universe.append(content)\n",
    "    return universe\n",
    "    \n",
    "result = iterator(5)\n",
    "print(result)"
   ]
  },
  {
   "cell_type": "code",
   "execution_count": 15,
   "id": "47445f7c-c6e2-4edd-ab57-fbe0c25f9da9",
   "metadata": {
    "tags": []
   },
   "outputs": [],
   "source": [
    "def convert_matrix_to_string(matrix):\n",
    "    matrix_sequence = []\n",
    "    matrix = matrix[0]['matrix_sequence'].tolist()\n",
    "    new_matrix = []\n",
    "    \n",
    "    \n",
    "    \n",
    "    for index, item in enumerate(matrix):\n",
    "            new_matrix.append(''.join(item))\n",
    "        \n",
    "    for index, item in enumerate(new_matrix):\n",
    "        matrix_sequence.append(Cell(item))\n",
    "        \n",
    "    return matrix_sequence"
   ]
  },
  {
   "cell_type": "code",
   "execution_count": 30,
   "id": "0919c769-7ae1-4605-a164-72b8c16f6389",
   "metadata": {},
   "outputs": [],
   "source": [
    "outcomes_mutations = np.array([])"
   ]
  },
  {
   "cell_type": "code",
   "execution_count": 16,
   "id": "72123335-0861-4a02-90d1-8e6e478dcf7b",
   "metadata": {
    "tags": []
   },
   "outputs": [],
   "source": [
    "saved_iteration = {\n",
    "    'matrix_sequence' :[] ,\n",
    "    'good_points' : 0,\n",
    "    'bad_points' : 0,\n",
    "    'average' : 0\n",
    "}\n",
    "\n",
    "good_points = []\n",
    "bad_points = []"
   ]
  },
  {
   "cell_type": "code",
   "execution_count": 31,
   "id": "d78a0a4d-d63a-42bf-a072-a1a0662c5c10",
   "metadata": {
    "tags": []
   },
   "outputs": [
    {
     "name": "stdout",
     "output_type": "stream",
     "text": [
      "{'matrix_sequence': array([['A', 'A', '_', 'G', 'T', 'A', 'G', 'G', 'A', 'A', 'T', '_', 'A',\n",
      "        'A', 'T', 'A', 'T', 'C', 'T', 'T', 'A', 'T', 'C', 'A', 'T', 'T',\n",
      "        'A', 'T', 'A', 'G', 'A', 'T', 'A', 'A', 'A', 'A', 'A', 'C', 'C',\n",
      "        'T', 'T', 'C', 'T', 'G', 'A', 'A', 'T', 'T', 'T', 'G', 'C', 'T',\n",
      "        'T', 'A', 'G', 'T', 'G', 'T', 'G', 'T', 'A', 'T', 'A', 'C', '_',\n",
      "        'G', 'A', 'C', 'T', 'A', 'G', 'A', 'C', 'A', 'T', 'A', 'T', 'A',\n",
      "        'T', 'C', 'A', 'G', 'C', 'T', '_', 'C', 'G', 'C', 'C', 'G', 'A',\n",
      "        'T', 'T', 'A', 'T', 'T', 'T', 'G', 'G', 'A', '_', 'T', 'T', 'A',\n",
      "        'T', 'T', 'C', 'C', '_', 'C', 'T', 'G', '_', '_', '_', '_', '_',\n",
      "        '_', '_', '_', '_', '_', '_', '_', '_', '_', '_', '_', '_', '_',\n",
      "        '_', '_', '_', '_', '_', '_', '_', '_', '_', '_', '_', '_', '_',\n",
      "        '_', '_', '_', '_', '_', '_', '_', '_', '_', '_', '_', '_', '_',\n",
      "        '_', '_', '_', '_', '_'],\n",
      "       ['C', 'A', 'G', 'T', 'A', 'A', 'A', 'G', 'A', 'G', 'T', 'G', 'G',\n",
      "        'A', 'T', 'G', 'T', 'A', 'A', 'G', 'A', 'A', 'C', 'C', 'G', 'T',\n",
      "        '_', 'C', 'C', 'G', 'A', 'T', 'C', 'T', 'A', 'C', 'C', 'A', 'G',\n",
      "        'A', 'T', 'G', 'T', 'G', 'A', 'T', 'A', 'G', 'A', 'G', 'G', 'T',\n",
      "        'T', 'G', 'C', 'C', 'A', '_', 'G', 'T', 'A', 'A', 'A', 'A', 'A',\n",
      "        'A', 'T', 'T', 'G', 'C', 'A', 'T', 'A', 'A', 'T', 'A', 'A', 'T',\n",
      "        'T', 'G', 'A', 'T', '_', 'T', 'A', 'A', 'T', 'C', 'C', 'T', 'T',\n",
      "        'T', 'A', 'A', 'T', 'A', 'T', 'T', 'G', 'T', 'T', 'T', 'A', 'G',\n",
      "        'A', 'A', '_', 'T', 'A', 'T', 'A', 'T', 'C', 'C', 'G', 'T', 'C',\n",
      "        'A', 'G', 'A', 'T', 'A', '_', 'A', 'T', 'C', 'C', 'T', 'A', 'A',\n",
      "        'A', 'A', 'A', 'T', '_', 'A', 'A', 'C', 'G', 'A', 'T', 'A', 'T',\n",
      "        'G', 'A', 'T', 'G', 'G', 'C', 'G', 'G', '_', 'A', 'A', 'A', 'T',\n",
      "        'C', 'G', 'T', 'C', '_'],\n",
      "       ['C', 'T', 'T', 'C', 'A', 'A', 'T', '_', 'T', 'A', 'C', 'C', 'C',\n",
      "        'T', 'G', 'C', 'T', 'G', 'A', 'C', 'G', 'C', 'G', '_', '_', 'A',\n",
      "        'G', 'A', 'T', 'A', 'C', 'C', 'T', 'T', 'A', 'T', 'G', 'C', 'A',\n",
      "        'T', 'C', 'G', '_', 'A', '_', 'A', 'G', 'G', 'T', 'A', 'A', '_',\n",
      "        'A', 'G', 'C', 'G', 'A', 'T', 'G', 'A', 'A', 'T', 'T', 'T', 'A',\n",
      "        '_', 'T', 'C', 'C', 'A', 'A', '_', 'G', 'G', 'T', 'T', 'T', 'T',\n",
      "        'A', 'A', 'T', 'T', '_', 'T', 'G', '_', '_', '_', '_', '_', '_',\n",
      "        '_', '_', '_', '_', '_', '_', '_', '_', '_', '_', '_', '_', '_',\n",
      "        '_', '_', '_', '_', '_', '_', '_', '_', '_', '_', '_', '_', '_',\n",
      "        '_', '_', '_', '_', '_', '_', '_', '_', '_', '_', '_', '_', '_',\n",
      "        '_', '_', '_', '_', '_', '_', '_', '_', '_', '_', '_', '_', '_',\n",
      "        '_', '_', '_', '_', '_', '_', '_', '_', '_', '_', '_', '_', '_',\n",
      "        '_', '_', '_', '_', '_'],\n",
      "       ['A', 'A', 'G', 'T', 'A', 'G', 'G', 'A', 'A', '_', 'T', 'A', 'A',\n",
      "        'T', 'A', 'T', 'C', 'T', 'T', 'A', 'T', 'C', 'A', '_', 'T', 'T',\n",
      "        'A', 'T', 'A', '_', 'G', 'A', 'T', 'A', 'A', 'A', 'A', 'A', 'C',\n",
      "        'C', 'T', 'T', 'C', 'T', 'G', 'A', 'A', 'T', 'T', 'T', 'G', 'C',\n",
      "        'T', 'T', 'A', 'G', 'T', 'G', 'T', 'G', 'T', 'A', 'T', 'A', 'C',\n",
      "        'G', 'A', 'C', 'T', 'A', 'G', 'A', 'C', 'A', 'T', 'A', 'T', 'A',\n",
      "        'T', 'C', 'A', 'G', '_', 'C', 'T', 'C', 'G', 'C', 'C', 'G', 'A',\n",
      "        'T', 'T', 'A', 'T', 'T', 'T', 'G', 'G', 'A', 'T', 'T', 'A', 'T',\n",
      "        'T', 'C', 'C', 'C', 'T', 'G', '_', '_', '_', '_', '_', '_', '_',\n",
      "        '_', '_', '_', '_', '_', '_', '_', '_', '_', '_', '_', '_', '_',\n",
      "        '_', '_', '_', '_', '_', '_', '_', '_', '_', '_', '_', '_', '_',\n",
      "        '_', '_', '_', '_', '_', '_', '_', '_', '_', '_', '_', '_', '_',\n",
      "        '_', '_', '_', '_', '_'],\n",
      "       ['C', 'A', 'G', '_', 'T', 'A', 'A', 'A', 'G', 'A', 'G', 'T', 'G',\n",
      "        'G', 'A', 'T', 'G', 'T', 'A', 'A', 'G', 'A', 'A', 'C', 'C', 'G',\n",
      "        'T', 'C', 'C', 'G', 'A', 'T', 'C', 'T', 'A', '_', 'C', 'C', 'A',\n",
      "        '_', 'G', 'A', 'T', 'G', 'T', 'G', 'A', '_', 'T', 'A', 'G', 'A',\n",
      "        'G', 'G', 'T', 'T', 'G', 'C', 'C', 'A', 'G', 'T', 'A', '_', 'A',\n",
      "        'A', 'A', 'A', 'A', 'T', 'T', 'G', 'C', 'A', 'T', 'A', 'A', 'T',\n",
      "        'A', 'A', 'T', 'T', 'G', 'A', 'T', 'T', 'A', 'A', 'T', 'C', '_',\n",
      "        'C', 'T', 'T', '_', 'T', 'A', 'A', 'T', 'A', 'T', 'T', 'G', 'T',\n",
      "        'T', 'T', 'A', 'G', 'A', 'A', 'T', 'A', 'T', 'A', 'T', 'C', 'C',\n",
      "        'G', 'T', 'C', 'A', 'G', 'A', 'T', 'A', 'A', 'T', 'C', 'C', 'T',\n",
      "        'A', 'A', 'A', 'A', 'A', 'T', 'A', '_', 'A', 'C', 'G', 'A', 'T',\n",
      "        'A', 'T', 'G', 'A', 'T', 'G', 'G', 'C', 'G', 'G', 'A', 'A', 'A',\n",
      "        'T', 'C', 'G', 'T', 'C'],\n",
      "       ['_', 'C', 'T', 'T', 'C', 'A', '_', '_', 'A', '_', 'T', 'T', '_',\n",
      "        'A', 'C', '_', 'C', '_', 'C', 'T', 'G', 'C', 'T', 'G', '_', 'A',\n",
      "        'C', '_', 'G', 'C', 'G', 'A', 'G', 'A', '_', 'T', '_', 'A', 'C',\n",
      "        'C', 'T', 'T', '_', 'A', 'T', 'G', 'C', 'A', '_', 'T', 'C', 'G',\n",
      "        'A', 'A', '_', 'G', 'G', 'T', 'A', 'A', '_', 'A', 'G', 'C', 'G',\n",
      "        '_', 'A', 'T', 'G', 'A', 'A', 'T', 'T', 'T', 'A', '_', 'T', 'C',\n",
      "        'C', 'A', 'A', 'G', 'G', '_', 'T', 'T', '_', 'T', 'T', 'A', 'A',\n",
      "        'T', 'T', 'T', 'G', '_', '_', '_', '_', '_', '_', '_', '_', '_',\n",
      "        '_', '_', '_', '_', '_', '_', '_', '_', '_', '_', '_', '_', '_',\n",
      "        '_', '_', '_', '_', '_', '_', '_', '_', '_', '_', '_', '_', '_',\n",
      "        '_', '_', '_', '_', '_', '_', '_', '_', '_', '_', '_', '_', '_',\n",
      "        '_', '_', '_', '_', '_', '_', '_', '_', '_', '_', '_', '_', '_',\n",
      "        '_', '_', '_', '_', '_']], dtype='<U1'), 'good_points': 302, 'bad_points': 296, 'average': 102.02702702702702}\n",
      "----------BEST MUTATION--------------------\n",
      "None\n"
     ]
    }
   ],
   "source": [
    "\n",
    "#sequence_array_parameter create_main_data_set\n",
    "#se tiene que retornar el json con el formato de good points bad ponits y matrix_sequence\n",
    "def core_iterations(items, number_iterations, max_iterations, saved_iteration):\n",
    "    new_items = []\n",
    "   \n",
    "    \n",
    "    if len(new_items) == 0 : \n",
    "        new_items.append(items[0])\n",
    "    \n",
    "    if number_iterations == max_iterations :\n",
    "        #print('---------------------------------FINISHED----------------------------------------------------------')\n",
    "        #print(items)\n",
    "        print(saved_iteration)\n",
    "        \n",
    "        \n",
    "        return saved_iteration\n",
    "    \n",
    "    matrix_sequence = convert_matrix_to_string(new_items)\n",
    "    \n",
    "    \n",
    "    \n",
    "\n",
    "    for index, item in enumerate(items):\n",
    "        good_points.append(item['good_points'])\n",
    "        bad_points.append(item['bad_points'])\n",
    "        #print(item['average'])\n",
    "        if item['good_points'] != 0:\n",
    "            #new_items.append(item)\n",
    "            #matrix_sequence = convert_matrix_to_string(new_items) #aqui debemos de avaluar cual es mejor para pasarla con matrix_sequence\n",
    "            #print(item)\n",
    "            if saved_iteration['average'] < item['average']:\n",
    "                saved_iteration = item\n",
    "                new_items.append(item)\n",
    "                matrix_sequence = convert_matrix_to_string(new_items)\n",
    "            #else : \n",
    "                #matrix_sequence = convert_matrix_to_string(new_items)\n",
    "            #print(\"good_points\")\n",
    "    \n",
    "    \n",
    "    \n",
    "    mutation = iterator(5, matrix_sequence)\n",
    "\n",
    " \n",
    "    core_iterations(mutation , number_iterations + 1 , max_iterations , saved_iteration)\n",
    "    \n",
    "    \n",
    "best_mutations = core_iterations(result , 0, 5, saved_iteration)\n",
    "print('----------BEST MUTATION--------------------')\n",
    "print(best_mutations)"
   ]
  },
  {
   "cell_type": "code",
   "execution_count": 28,
   "id": "3c33b7f0-8720-44f2-a1d0-7b80ae309d52",
   "metadata": {
    "tags": []
   },
   "outputs": [
    {
     "data": {
      "image/png": "[encoded data removed]",
      "text/plain": [
       "<Figure size 640x480 with 1 Axes>"
      ]
     },
     "metadata": {},
     "output_type": "display_data"
    }
   ],
   "source": [
    "plt.plot([x for x, item in enumerate(good_points)] , good_points, label = 'good_points', color = 'green')\n",
    "plt.plot([x for x, item in enumerate(bad_points)] ,bad_points, label = 'bad_points', color = 'red')\n",
    "plt.title('Behavior')\n",
    "plt.xlabel('Time')\n",
    "plt.ylabel('Good points')\n",
    "plt.legend()\n",
    "plt.show()"
   ]
  },
  {
   "cell_type": "markdown",
   "id": "cd5dc787-5792-47f3-a94d-651cc5a4955a",
   "metadata": {},
   "source": [
    "## TESTES"
   ]
  },
  {
   "cell_type": "code",
   "execution_count": null,
   "id": "f75ea54e-5e09-4b5d-81a0-6fa2283740d9",
   "metadata": {
    "tags": []
   },
   "outputs": [],
   "source": [
    "good_points"
   ]
  },
  {
   "cell_type": "code",
   "execution_count": null,
   "id": "3cc1a109-8a1d-4c2a-a163-2cc5f70434c1",
   "metadata": {
    "tags": []
   },
   "outputs": [],
   "source": [
    "bad_points"
   ]
  },
  {
   "cell_type": "code",
   "execution_count": null,
   "id": "b2de272c-ca46-4bfb-bcf2-5f3952588d91",
   "metadata": {
    "tags": []
   },
   "outputs": [],
   "source": [
    "saved_iteration = {\n",
    "    'matrix_sequence' :[] ,\n",
    "    'good_points' : 0,\n",
    "    'bad_points' : 0,\n",
    "    'average' : 0\n",
    "}\n",
    "\n",
    "print(saved_iteration['average'])"
   ]
  },
  {
   "cell_type": "code",
   "execution_count": null,
   "id": "dfbe3c76-677f-425c-bc23-336cd829fef7",
   "metadata": {
    "tags": []
   },
   "outputs": [],
   "source": [
    "open  = False\n",
    "for index, item in enumerate(result):\n",
    "    if item['good_points'] != 0:\n",
    "        pd.DataFrame( item['matrix_sequence'] ).to_csv(r'output.csv')\n",
    "        filename = r\"C:\\Users\\Sergio\\Documents\\Sergio Lopez\\Universidad\\6to semestre\\Analisis y modelacion de sistemas\\Alineamineto genetico\\output.csv\"\n",
    "\n",
    "        # Enclose the file path in double quotes\n",
    "        os.system('start excel.exe \"{}\"'.format(filename))\n",
    "        print(\"good points\")\n",
    "        open = True\n",
    "    \n",
    "if open == False : \n",
    "    pd.DataFrame( result[0]['matrix_sequence'] ).to_csv(r'output.csv')\n",
    "    filename = r\"C:\\Users\\Sergio\\Documents\\Sergio Lopez\\Universidad\\6to semestre\\Analisis y modelacion de sistemas\\Alineamineto genetico\\output.csv\"\n",
    "    print(\"only bad points\")\n",
    "    # Enclose the file path in double quotes\n",
    "    os.system('start excel.exe \"{}\"'.format(filename))"
   ]
  },
  {
   "cell_type": "code",
   "execution_count": null,
   "id": "b8a15eb6-512c-46bb-b1cd-c65fab733057",
   "metadata": {
    "tags": []
   },
   "outputs": [],
   "source": [
    "matrix_sequence.shape"
   ]
  },
  {
   "cell_type": "code",
   "execution_count": null,
   "id": "ee1e86c0-b9b6-41d3-a429-1b282d980526",
   "metadata": {},
   "outputs": [],
   "source": [
    "#OPEN THE DATAFRAME IN EXCEL FILE\n",
    "pd.DataFrame(matrix_sequence).to_csv(r'output.csv')\n",
    "\n",
    "filename = r\"C:\\Users\\Sergio\\Documents\\Sergio Lopez\\Universidad\\6to semestre\\Analisis y modelacion de sistemas\\Alineamineto genetico\\output.csv\"\n",
    "\n",
    "# Enclose the file path in double quotes\n",
    "os.system('start excel.exe \"{}\"'.format(filename))"
   ]
  },
  {
   "cell_type": "code",
   "execution_count": 13,
   "id": "ebf44808-f9f0-4352-8dfb-9d830711c04c",
   "metadata": {},
   "outputs": [],
   "source": [
    "def evaluation(matrix_sequence):\n",
    "    num_rows, num_columns = matrix_sequence.shape\n",
    "    max_repeated_columns = []  # Store the count of most repeated characters in each column\n",
    "    \n",
    "    for col in range(num_columns):\n",
    "        column_values = matrix_sequence[:, col]\n",
    "        \n",
    "        if column_values[0] != GRAP_SIMBOL:\n",
    "            unique_values, counts = np.unique(column_values, return_counts=True)\n",
    "            max_count = np.max(counts)\n",
    "            max_repeated_columns.append(max_count)\n",
    "\n",
    "    good_points = sum(max_repeated_columns)\n",
    "    bad_points = np.count_nonzero(matrix_sequence == GRAP_SIMBOL)\n",
    "    \n",
    "    return good_points, bad_points"
   ]
  },
  {
   "cell_type": "code",
   "execution_count": null,
   "id": "76e2e65b-9941-4236-9dcf-9d4ec5ca0acb",
   "metadata": {},
   "outputs": [],
   "source": []
  }
 ],
 "metadata": {
  "kernelspec": {
   "display_name": "Python 3 (ipykernel)",
   "language": "python",
   "name": "python3"
  },
  "language_info": {
   "codemirror_mode": {
    "name": "ipython",
    "version": 3
   },
   "file_extension": ".py",
   "mimetype": "text/x-python",
   "name": "python",
   "nbconvert_exporter": "python",
   "pygments_lexer": "ipython3",
   "version": "3.9.13"
  }
 },
 "nbformat": 4,
 "nbformat_minor": 5
}
