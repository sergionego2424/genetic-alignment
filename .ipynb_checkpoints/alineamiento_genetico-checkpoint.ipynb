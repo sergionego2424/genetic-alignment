{
 "cells": [
  {
   "cell_type": "code",
   "execution_count": 31,
   "id": "8778bf83-cd55-4835-a59a-c6654a1ad295",
   "metadata": {},
   "outputs": [],
   "source": [
    "import numpy as np\n",
    "import matplotlib.pyplot as plt\n",
    "import random\n",
    "import pandas as pd\n",
    "from array import array"
   ]
  },
  {
   "cell_type": "code",
   "execution_count": 32,
   "id": "c5eb9af5-8a09-4b88-9974-9ad7e32f205a",
   "metadata": {},
   "outputs": [],
   "source": [
    "def insert_randomly(input_string, characters_to_insert):\n",
    "    new_string = list(input_string) \n",
    "    for char in characters_to_insert:\n",
    "        index = random.randint(0, len(new_string))\n",
    "        new_string.insert(index, char)\n",
    "    return ''.join(new_string)"
   ]
  },
  {
   "cell_type": "code",
   "execution_count": 33,
   "id": "9134ce46-20d2-4f48-aedf-dd0d2c4293a8",
   "metadata": {},
   "outputs": [],
   "source": [
    "class Cell :\n",
    "    \n",
    "    def __init__(self, sequence):\n",
    "        self.sequence = sequence\n",
    "        self.width = len(sequence)\n",
    "        self.gaps_num = 0\n",
    "    \n",
    "    def muatate(self, gaps_num):\n",
    "        \n",
    "        for i in range(gaps_num) : \n",
    "            self.sequence = insert_randomly(self.sequence , \"_\")\n",
    "        self.width = len(self.sequence)"
   ]
  },
  {
   "cell_type": "code",
   "execution_count": 34,
   "id": "0d987ca7-3e05-4cb2-a856-17cd2c9413f2",
   "metadata": {},
   "outputs": [],
   "source": [
    "#JUST TEMPORALY WHEN YOU GET THE FILE .FAST JUST MODIFY THE FOLLOWING LINES : \n",
    "array_words = np.array([\n",
    "    \"MURCIELAGO\", \"PANADERIA\" , \"CELULAS\", \"SERGIO\", \"LOPEZ\", \"ORTIZ\", \"PARANGARICUTIRIMICUARO\"\n",
    "],dtype = str)\n",
    "\n",
    "def create_main_data_set(file_path, mutate_lavel = 2):\n",
    "    #READ THE FILE AND EXTRACT HOW MANY CELLS IT HAS INVOLVE\n",
    "\n",
    "    cell_num = 115\n",
    "    cells_array = np.array([])\n",
    "    \n",
    "    for i in range(cell_num):\n",
    "        random_word = array_words[random.randint(0, (len(array_words) - 1))]\n",
    "        cell = Cell(random_word)\n",
    "        \n",
    "        if mutate_lavel == 1:\n",
    "            graps_num = random.randint(0, round(len(cell.sequence) / 4) )\n",
    "        if mutate_lavel == 2:\n",
    "            graps_num = random.randint(0, round(len(cell.sequence) / 2) )\n",
    "        \n",
    "        cell.muatate(graps_num) \n",
    "        cell.sequence\n",
    "        \n",
    "        cells_array = np.append(cells_array, cell)\n",
    "        \n",
    "    return cells_array\n",
    "        \n",
    "cells_array = create_main_data_set(\"ASD\", 1)\n"
   ]
  },
  {
   "cell_type": "code",
   "execution_count": 81,
   "id": "ec7fd110-ee86-46fe-aaa7-a6d5788af6bc",
   "metadata": {},
   "outputs": [
    {
     "name": "stdout",
     "output_type": "stream",
     "text": [
      "(115, 28)\n"
     ]
    },
    {
     "data": {
      "text/plain": [
       "array([['L', 'O', 'P', ..., '*', '*', '*'],\n",
       "       ['S', 'E', 'R', ..., '*', '*', '*'],\n",
       "       ['L', '_', 'O', ..., '*', '*', '*'],\n",
       "       ...,\n",
       "       ['P', 'A', 'N', ..., '*', '*', '*'],\n",
       "       ['C', 'E', 'L', ..., '*', '*', '*'],\n",
       "       ['O', 'R', 'T', ..., '*', '*', '*']], dtype='<U1')"
      ]
     },
     "execution_count": 81,
     "metadata": {},
     "output_type": "execute_result"
    }
   ],
   "source": [
    "def create_matrix_sequence(cells_array):\n",
    "    array_cells_width = np.array([cell.width for cell in cells_array])\n",
    "    \n",
    "    matrix_sequence = np.array([['*' for _ in range(max(array_cells_width))] for _ in range(len(cells_array))])\n",
    "    \n",
    "    matrix_cells_sequence = [list(cell.sequence) for cell in cells_array]\n",
    "    \n",
    "\n",
    "    for i, row in enumerate(matrix_cells_sequence):\n",
    "        for j, column in enumerate(matrix_cells_sequence[i]):\n",
    "            matrix_sequence[i][j] = matrix_cells_sequence[i][j]\n",
    "    \n",
    "    return matrix_sequence\n",
    "matrix_sequence = create_matrix_sequence(cells_array)\n",
    "\n",
    "print(matrix_sequence.shape)\n",
    "matrix_sequence"
   ]
  },
  {
   "cell_type": "code",
   "execution_count": 82,
   "id": "7d3a37f9-2c92-4c36-aa9b-b725e92795c1",
   "metadata": {},
   "outputs": [
    {
     "name": "stdout",
     "output_type": "stream",
     "text": [
      "22\n"
     ]
    }
   ],
   "source": [
    "print(len(\"PARANGARICUTIRIMICUARO\"))"
   ]
  },
  {
   "cell_type": "code",
   "execution_count": 83,
   "id": "9715034f-d297-4ea6-90ec-b3cd4fe70743",
   "metadata": {},
   "outputs": [],
   "source": [
    "pd.DataFrame(matrix_sequence).to_csv(r'output.csv')"
   ]
  },
  {
   "cell_type": "code",
   "execution_count": null,
   "id": "6336ba20-917a-42bc-8e7d-1e0c2c2a3aa9",
   "metadata": {},
   "outputs": [],
   "source": []
  }
 ],
 "metadata": {
  "kernelspec": {
   "display_name": "Python 3 (ipykernel)",
   "language": "python",
   "name": "python3"
  },
  "language_info": {
   "codemirror_mode": {
    "name": "ipython",
    "version": 3
   },
   "file_extension": ".py",
   "mimetype": "text/x-python",
   "name": "python",
   "nbconvert_exporter": "python",
   "pygments_lexer": "ipython3",
   "version": "3.9.13"
  }
 },
 "nbformat": 4,
 "nbformat_minor": 5
}
