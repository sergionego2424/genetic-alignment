{
 "cells": [
  {
   "cell_type": "code",
   "execution_count": 1,
   "id": "8778bf83-cd55-4835-a59a-c6654a1ad295",
   "metadata": {},
   "outputs": [],
   "source": [
    "import numpy as np\n",
    "import matplotlib.pyplot as plt\n",
    "import random\n",
    "import pandas as pd\n",
    "import os\n",
    "from array import array"
   ]
  },
  {
   "cell_type": "markdown",
   "id": "4ce8cfdb-7263-4fac-a2db-aa1a454e9bf3",
   "metadata": {},
   "source": [
    "### GLOBAL VARIABLES"
   ]
  },
  {
   "cell_type": "code",
   "execution_count": 2,
   "id": "c329fedd-3b6b-4acf-99ba-4359079a7c93",
   "metadata": {},
   "outputs": [],
   "source": [
    "GRAP_SIMBOL = '_'\n",
    "\n",
    "# Specify the path to your text file\n",
    "SEQUENCE_FILE = r'C:\\Users\\Sergio\\Documents\\Sergio Lopez\\Universidad\\6to semestre\\Analisis y modelacion de sistemas\\Alineamineto genetico\\Secuencias.txt'\n",
    "#SEQUENCE_FILE = r'C:\\Users\\Sergio\\Documents\\Sergio Lopez\\Universidad\\6to semestre\\Analisis y modelacion de sistemas\\Alineamineto genetico\\Secuencias_Nombres.txt'"
   ]
  },
  {
   "cell_type": "markdown",
   "id": "f045a5fc-b8c4-4af5-a728-30c7693970f9",
   "metadata": {},
   "source": [
    "### Code"
   ]
  },
  {
   "cell_type": "code",
   "execution_count": 3,
   "id": "c5eb9af5-8a09-4b88-9974-9ad7e32f205a",
   "metadata": {},
   "outputs": [],
   "source": [
    "def insert_randomly(input_string, characters_to_insert):\n",
    "    new_string = list(input_string) \n",
    "    for char in characters_to_insert:\n",
    "        index = random.randint(0, len(new_string))\n",
    "        new_string.insert(index, char)\n",
    "    return ''.join(new_string)"
   ]
  },
  {
   "cell_type": "code",
   "execution_count": 4,
   "id": "9134ce46-20d2-4f48-aedf-dd0d2c4293a8",
   "metadata": {},
   "outputs": [],
   "source": [
    "class Cell :\n",
    "    \n",
    "    def __init__(self, sequence):\n",
    "        self.sequence = sequence\n",
    "        self.width = len(sequence)\n",
    "        self.gaps_num = 0\n",
    "    \n",
    "    def muatate(self, gaps_num):\n",
    "        \n",
    "        for i in range(gaps_num) : \n",
    "            self.sequence = insert_randomly(self.sequence , GRAP_SIMBOL)#CHANGE THE 'M' CHARACTER TO '_'\n",
    "        self.width = len(self.sequence)"
   ]
  },
  {
   "cell_type": "code",
   "execution_count": 5,
   "id": "9595eefb-4f66-4133-939e-04c57fea4f8c",
   "metadata": {},
   "outputs": [],
   "source": [
    "# Define a function to parse the sequences from the text file\n",
    "def parse_sequences(file_path):\n",
    "    sequences = []\n",
    "    with open(file_path, 'r') as file:\n",
    "        sequence = \"\"\n",
    "        for line in file:\n",
    "            line = line.strip()\n",
    "            if line.startswith(\">\"):\n",
    "                if sequence:\n",
    "                    sequences.append(sequence)\n",
    "                sequence = \"\"\n",
    "            else:\n",
    "                sequence += line\n",
    "        if sequence:\n",
    "            sequences.append(sequence)\n",
    "    return np.array(sequences)\n"
   ]
  },
  {
   "cell_type": "code",
   "execution_count": 6,
   "id": "0d987ca7-3e05-4cb2-a856-17cd2c9413f2",
   "metadata": {},
   "outputs": [],
   "source": [
    "\n",
    "def create_main_data_set(SEQUENCE_FILE,sequence_array_parameter = np.array([]), mutate_lavel = 2):\n",
    "    #READ THE FILE AND EXTRACT HOW MANY CELLS IT HAS INVOLVE\n",
    "\n",
    "    cells_array = np.array([])\n",
    "    \n",
    "    \n",
    "    \n",
    "    if len(sequence_array_parameter) == 0:\n",
    "        # Call the function to parse sequences and store them in a NumPy array\n",
    "        sequences_array = parse_sequences(SEQUENCE_FILE)\n",
    "    \n",
    "    \n",
    "    for i , sequence_string in enumerate(sequences_array):\n",
    "        random_word = sequence_string\n",
    "        #random_word = array_words[0] #REMOVE THIS LINE AND DISCOMMENT THE LAST ONE\n",
    "        cell = Cell(random_word)\n",
    "        \n",
    "        if mutate_lavel == 1:\n",
    "            graps_num = random.randint(0, round(len(cell.sequence) / 4) )\n",
    "        if mutate_lavel == 2:\n",
    "            graps_num = random.randint(0, round(len(cell.sequence) / 2) )\n",
    "        \n",
    "        cell.muatate(graps_num) \n",
    "        cell.sequence\n",
    "        \n",
    "        cells_array = np.append(cells_array, cell)\n",
    "        \n",
    "    return cells_array\n",
    "        \n",
    "#cells_array = create_main_data_set(SEQUENCE_FILE, mutate_lavel = 1)\n",
    "#cells_array"
   ]
  },
  {
   "cell_type": "code",
   "execution_count": 7,
   "id": "ec7fd110-ee86-46fe-aaa7-a6d5788af6bc",
   "metadata": {},
   "outputs": [],
   "source": [
    "def create_matrix_sequence(cells_array):\n",
    "    array_cells_width = np.array([cell.width for cell in cells_array])\n",
    "    \n",
    "    #MODIFY THE * TO _ \n",
    "    matrix_sequence = np.array([[GRAP_SIMBOL for _ in range(max(array_cells_width))] for _ in range(len(cells_array))])\n",
    "    \n",
    "    matrix_cells_sequence = [list(cell.sequence) for cell in cells_array]\n",
    "    \n",
    "\n",
    "    for i, row in enumerate(matrix_cells_sequence):\n",
    "        for j, column in enumerate(matrix_cells_sequence[i]):\n",
    "            matrix_sequence[i][j] = matrix_cells_sequence[i][j]\n",
    "    \n",
    "    return matrix_sequence\n",
    "#matrix_sequence = create_matrix_sequence(cells_array)\n",
    "\n",
    "#print(matrix_sequence.shape)\n",
    "#matrix_sequence"
   ]
  },
  {
   "cell_type": "code",
   "execution_count": 8,
   "id": "6336ba20-917a-42bc-8e7d-1e0c2c2a3aa9",
   "metadata": {},
   "outputs": [],
   "source": [
    "def evaluation(matrix_sequence):\n",
    "    num_rows, num_columns = matrix_sequence.shape\n",
    "    same_value_columns = []\n",
    "    \n",
    "    #COUNT THE GOOD POINTS\n",
    "    for col in range(num_columns):\n",
    "        column_values = matrix_sequence[:, col]\n",
    "        if column_values[0] != GRAP_SIMBOL :\n",
    "            is_same = all(column_values == column_values[0])\n",
    "            same_value_columns.append(is_same)\n",
    "\n",
    "    #print(same_value_columns)\n",
    "    count_same_value_columns = np.count_nonzero(same_value_columns)\n",
    "        \n",
    "    good_points = num_rows * count_same_value_columns\n",
    "    \n",
    "    #COUNT THE BAD POINTS '_'\n",
    "    \n",
    "    bad_points = np.count_nonzero(matrix_sequence == GRAP_SIMBOL)\n",
    "    \n",
    "    return good_points , bad_points\n",
    "\n",
    "\n",
    "#matrix_sequence[ : , 1] = 'A' #JUST TO MAKE TESTES\n",
    "\n",
    "#good_points , bad_points = evaluation(matrix_sequence)\n",
    "\n",
    "\n",
    "\n",
    "#print(f\"The good points number : {good_points}\")\n",
    "#print(f\"The bad points number : {bad_points}\")"
   ]
  },
  {
   "cell_type": "code",
   "execution_count": 9,
   "id": "74207c90-b68d-423d-8468-cecde2aff56b",
   "metadata": {},
   "outputs": [],
   "source": [
    "def iterator(N_ITERATIONS, data_set = []):\n",
    "    universe = []\n",
    "    \n",
    "    for i in range(N_ITERATIONS):\n",
    "        if len(data_set) == 0:\n",
    "            cells_array = create_main_data_set(SEQUENCE_FILE, mutate_lavel = 1)\n",
    "        else:\n",
    "            cells_array = data_set\n",
    "        matrix_sequence = create_matrix_sequence(cells_array)\n",
    "        good_points , bad_points = evaluation(matrix_sequence)\n",
    "        content = {\n",
    "            'matrix_sequence' : matrix_sequence,\n",
    "            'good_points' : good_points,\n",
    "            'bad_points' : bad_points\n",
    "        }\n",
    "        \n",
    "        universe.append(content)\n",
    "    return universe\n",
    "    \n",
    "result = iterator(5)"
   ]
  },
  {
   "cell_type": "code",
   "execution_count": 17,
   "id": "d78a0a4d-d63a-42bf-a072-a1a0662c5c10",
   "metadata": {},
   "outputs": [
    {
     "name": "stdout",
     "output_type": "stream",
     "text": [
      "just bad points\n",
      "just bad points\n",
      "just bad points\n",
      "just bad points\n",
      "thats it\n",
      "[{'matrix_sequence': array([['_', 'A', 'A', ..., '_', '_', '_'],\n",
      "       ['_', 'C', 'A', ..., 'T', '_', 'C'],\n",
      "       ['C', 'T', 'T', ..., '_', '_', '_'],\n",
      "       ['A', 'A', 'G', ..., '_', '_', '_'],\n",
      "       ['C', 'A', 'G', ..., '_', '_', '_'],\n",
      "       ['C', 'T', 'T', ..., '_', '_', '_']], dtype='<U1'), 'good_points': 6, 'bad_points': 434}]\n"
     ]
    }
   ],
   "source": [
    "#sequence_array_parameter create_main_data_set\n",
    "\n",
    "def core_iterations(items, number_iterations, max_iterations):\n",
    "    new_items = []\n",
    "    \n",
    "    if  number_iterations == 0:\n",
    "        for index, item in enumerate(items):\n",
    "            if item['good_points'] != 0:\n",
    "                new_items.append(item)\n",
    "   \n",
    "    \n",
    "    if len(new_items) == 0 : \n",
    "        new_items.append(items[0])\n",
    "        print(\"just bad points\")\n",
    "    \n",
    "    if number_iterations == max_iterations :\n",
    "        print('thats it')\n",
    "        print(items)\n",
    "        return\n",
    "    \n",
    "    core_iterations(new_items , number_iterations + 1 , max_iterations )\n",
    "core_iterations(result , 0, 4)"
   ]
  },
  {
   "cell_type": "code",
   "execution_count": 11,
   "id": "dfbe3c76-677f-425c-bc23-336cd829fef7",
   "metadata": {},
   "outputs": [
    {
     "name": "stdout",
     "output_type": "stream",
     "text": [
      "good points\n"
     ]
    }
   ],
   "source": [
    "open  = False\n",
    "for index, item in enumerate(result):\n",
    "    if item['good_points'] != 0:\n",
    "        pd.DataFrame( item['matrix_sequence'] ).to_csv(r'output.csv')\n",
    "        filename = r\"C:\\Users\\Sergio\\Documents\\Sergio Lopez\\Universidad\\6to semestre\\Analisis y modelacion de sistemas\\Alineamineto genetico\\output.csv\"\n",
    "\n",
    "        # Enclose the file path in double quotes\n",
    "        os.system('start excel.exe \"{}\"'.format(filename))\n",
    "        print(\"good points\")\n",
    "        open = True\n",
    "    \n",
    "if open == False : \n",
    "    pd.DataFrame( result[0]['matrix_sequence'] ).to_csv(r'output.csv')\n",
    "    filename = r\"C:\\Users\\Sergio\\Documents\\Sergio Lopez\\Universidad\\6to semestre\\Analisis y modelacion de sistemas\\Alineamineto genetico\\output.csv\"\n",
    "    print(\"only bad points\")\n",
    "    # Enclose the file path in double quotes\n",
    "    os.system('start excel.exe \"{}\"'.format(filename))"
   ]
  },
  {
   "cell_type": "code",
   "execution_count": 12,
   "id": "b8a15eb6-512c-46bb-b1cd-c65fab733057",
   "metadata": {},
   "outputs": [
    {
     "ename": "NameError",
     "evalue": "name 'matrix_sequence' is not defined",
     "output_type": "error",
     "traceback": [
      "\u001b[1;31m---------------------------------------------------------------------------\u001b[0m",
      "\u001b[1;31mNameError\u001b[0m                                 Traceback (most recent call last)",
      "\u001b[1;32m~\\AppData\\Local\\Temp\\ipykernel_15676\\834794097.py\u001b[0m in \u001b[0;36m<module>\u001b[1;34m\u001b[0m\n\u001b[1;32m----> 1\u001b[1;33m \u001b[0mmatrix_sequence\u001b[0m\u001b[1;33m.\u001b[0m\u001b[0mshape\u001b[0m\u001b[1;33m\u001b[0m\u001b[1;33m\u001b[0m\u001b[0m\n\u001b[0m",
      "\u001b[1;31mNameError\u001b[0m: name 'matrix_sequence' is not defined"
     ]
    }
   ],
   "source": [
    "matrix_sequence.shape"
   ]
  },
  {
   "cell_type": "code",
   "execution_count": null,
   "id": "ee1e86c0-b9b6-41d3-a429-1b282d980526",
   "metadata": {},
   "outputs": [],
   "source": [
    "#OPEN THE DATAFRAME IN EXCEL FILE\n",
    "pd.DataFrame(matrix_sequence).to_csv(r'output.csv')\n",
    "\n",
    "filename = r\"C:\\Users\\Sergio\\Documents\\Sergio Lopez\\Universidad\\6to semestre\\Analisis y modelacion de sistemas\\Alineamineto genetico\\output.csv\"\n",
    "\n",
    "# Enclose the file path in double quotes\n",
    "os.system('start excel.exe \"{}\"'.format(filename))"
   ]
  },
  {
   "cell_type": "code",
   "execution_count": null,
   "id": "e867bc19-3baa-424b-93e1-b05203971aa3",
   "metadata": {},
   "outputs": [],
   "source": []
  }
 ],
 "metadata": {
  "kernelspec": {
   "display_name": "Python 3 (ipykernel)",
   "language": "python",
   "name": "python3"
  },
  "language_info": {
   "codemirror_mode": {
    "name": "ipython",
    "version": 3
   },
   "file_extension": ".py",
   "mimetype": "text/x-python",
   "name": "python",
   "nbconvert_exporter": "python",
   "pygments_lexer": "ipython3",
   "version": "3.9.13"
  }
 },
 "nbformat": 4,
 "nbformat_minor": 5
}
