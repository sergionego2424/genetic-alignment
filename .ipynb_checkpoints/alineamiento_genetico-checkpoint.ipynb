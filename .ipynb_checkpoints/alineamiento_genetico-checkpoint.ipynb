{
 "cells": [
  {
   "cell_type": "code",
   "execution_count": 1,
   "id": "8778bf83-cd55-4835-a59a-c6654a1ad295",
   "metadata": {},
   "outputs": [],
   "source": [
    "import numpy as np\n",
    "import matplotlib.pyplot as plt\n",
    "import random\n",
    "import pandas as pd\n",
    "from array import array"
   ]
  },
  {
   "cell_type": "code",
   "execution_count": 9,
   "id": "c329fedd-3b6b-4acf-99ba-4359079a7c93",
   "metadata": {},
   "outputs": [],
   "source": [
    "GRAP_SIMBOL = '_'"
   ]
  },
  {
   "cell_type": "code",
   "execution_count": 10,
   "id": "c5eb9af5-8a09-4b88-9974-9ad7e32f205a",
   "metadata": {},
   "outputs": [],
   "source": [
    "def insert_randomly(input_string, characters_to_insert):\n",
    "    new_string = list(input_string) \n",
    "    for char in characters_to_insert:\n",
    "        index = random.randint(0, len(new_string))\n",
    "        new_string.insert(index, char)\n",
    "    return ''.join(new_string)"
   ]
  },
  {
   "cell_type": "code",
   "execution_count": 11,
   "id": "9134ce46-20d2-4f48-aedf-dd0d2c4293a8",
   "metadata": {},
   "outputs": [],
   "source": [
    "class Cell :\n",
    "    \n",
    "    def __init__(self, sequence):\n",
    "        self.sequence = sequence\n",
    "        self.width = len(sequence)\n",
    "        self.gaps_num = 0\n",
    "    \n",
    "    def muatate(self, gaps_num):\n",
    "        \n",
    "        for i in range(gaps_num) : \n",
    "            self.sequence = insert_randomly(self.sequence , GRAP_SIMBOL)#CHANGE THE 'M' CHARACTER TO '_'\n",
    "        self.width = len(self.sequence)"
   ]
  },
  {
   "cell_type": "code",
   "execution_count": 12,
   "id": "0d987ca7-3e05-4cb2-a856-17cd2c9413f2",
   "metadata": {},
   "outputs": [],
   "source": [
    "#JUST TEMPORALY WHEN YOU GET THE FILE .FAST JUST MODIFY THE FOLLOWING LINES : \n",
    "array_words = np.array([\n",
    "    \"MURCIELAGO\", \"PANADERIA\" , \"CELULAS\", \"SERGIO\", \"LOPEZ\", \"ORTIZ\", \"PARANGARICUTIRIMICUARO\"\n",
    "],dtype = str)\n",
    "\n",
    "def create_main_data_set(file_path, mutate_lavel = 2):\n",
    "    #READ THE FILE AND EXTRACT HOW MANY CELLS IT HAS INVOLVE\n",
    "\n",
    "    cell_num = 115\n",
    "    cells_array = np.array([])\n",
    "    \n",
    "    for i in range(cell_num):\n",
    "        #random_word = array_words[random.randint(0, (len(array_words) - 1))]\n",
    "        random_word = array_words[0] #REMOVE THIS LINE AND DISCOMMENT THE LAST ONE\n",
    "        cell = Cell(random_word)\n",
    "        \n",
    "        if mutate_lavel == 1:\n",
    "            graps_num = random.randint(0, round(len(cell.sequence) / 4) )\n",
    "        if mutate_lavel == 2:\n",
    "            graps_num = random.randint(0, round(len(cell.sequence) / 2) )\n",
    "        \n",
    "        cell.muatate(graps_num) \n",
    "        cell.sequence\n",
    "        \n",
    "        cells_array = np.append(cells_array, cell)\n",
    "        \n",
    "    return cells_array\n",
    "        \n",
    "cells_array = create_main_data_set(\"ASD\", 1)\n"
   ]
  },
  {
   "cell_type": "code",
   "execution_count": 13,
   "id": "ec7fd110-ee86-46fe-aaa7-a6d5788af6bc",
   "metadata": {},
   "outputs": [
    {
     "name": "stdout",
     "output_type": "stream",
     "text": [
      "(115, 12)\n"
     ]
    },
    {
     "data": {
      "text/plain": [
       "array([['M', 'U', 'R', ..., 'O', '*', '*'],\n",
       "       ['M', 'U', 'R', ..., 'G', 'O', '*'],\n",
       "       ['M', 'U', 'R', ..., 'G', 'O', '_'],\n",
       "       ...,\n",
       "       ['M', 'U', 'R', ..., 'G', 'O', '_'],\n",
       "       ['M', 'U', 'R', ..., 'O', '*', '*'],\n",
       "       ['M', 'U', 'R', ..., 'G', 'O', '*']], dtype='<U1')"
      ]
     },
     "execution_count": 13,
     "metadata": {},
     "output_type": "execute_result"
    }
   ],
   "source": [
    "def create_matrix_sequence(cells_array):\n",
    "    array_cells_width = np.array([cell.width for cell in cells_array])\n",
    "    \n",
    "    matrix_sequence = np.array([['*' for _ in range(max(array_cells_width))] for _ in range(len(cells_array))])\n",
    "    \n",
    "    matrix_cells_sequence = [list(cell.sequence) for cell in cells_array]\n",
    "    \n",
    "\n",
    "    for i, row in enumerate(matrix_cells_sequence):\n",
    "        for j, column in enumerate(matrix_cells_sequence[i]):\n",
    "            matrix_sequence[i][j] = matrix_cells_sequence[i][j]\n",
    "    \n",
    "    return matrix_sequence\n",
    "matrix_sequence = create_matrix_sequence(cells_array)\n",
    "\n",
    "print(matrix_sequence.shape)\n",
    "matrix_sequence"
   ]
  },
  {
   "cell_type": "code",
   "execution_count": 14,
   "id": "9715034f-d297-4ea6-90ec-b3cd4fe70743",
   "metadata": {},
   "outputs": [
    {
     "ename": "PermissionError",
     "evalue": "[Errno 13] Permission denied: 'output.csv'",
     "output_type": "error",
     "traceback": [
      "\u001b[1;31m---------------------------------------------------------------------------\u001b[0m",
      "\u001b[1;31mPermissionError\u001b[0m                           Traceback (most recent call last)",
      "\u001b[1;32m~\\AppData\\Local\\Temp\\ipykernel_8376\\351646046.py\u001b[0m in \u001b[0;36m<module>\u001b[1;34m\u001b[0m\n\u001b[1;32m----> 1\u001b[1;33m \u001b[0mpd\u001b[0m\u001b[1;33m.\u001b[0m\u001b[0mDataFrame\u001b[0m\u001b[1;33m(\u001b[0m\u001b[0mmatrix_sequence\u001b[0m\u001b[1;33m)\u001b[0m\u001b[1;33m.\u001b[0m\u001b[0mto_csv\u001b[0m\u001b[1;33m(\u001b[0m\u001b[1;34mr'output.csv'\u001b[0m\u001b[1;33m)\u001b[0m\u001b[1;33m\u001b[0m\u001b[1;33m\u001b[0m\u001b[0m\n\u001b[0m",
      "\u001b[1;32m~\\anaconda3\\lib\\site-packages\\pandas\\core\\generic.py\u001b[0m in \u001b[0;36mto_csv\u001b[1;34m(self, path_or_buf, sep, na_rep, float_format, columns, header, index, index_label, mode, encoding, compression, quoting, quotechar, line_terminator, chunksize, date_format, doublequote, escapechar, decimal, errors, storage_options)\u001b[0m\n\u001b[0;32m   3549\u001b[0m         )\n\u001b[0;32m   3550\u001b[0m \u001b[1;33m\u001b[0m\u001b[0m\n\u001b[1;32m-> 3551\u001b[1;33m         return DataFrameRenderer(formatter).to_csv(\n\u001b[0m\u001b[0;32m   3552\u001b[0m             \u001b[0mpath_or_buf\u001b[0m\u001b[1;33m,\u001b[0m\u001b[1;33m\u001b[0m\u001b[1;33m\u001b[0m\u001b[0m\n\u001b[0;32m   3553\u001b[0m             \u001b[0mline_terminator\u001b[0m\u001b[1;33m=\u001b[0m\u001b[0mline_terminator\u001b[0m\u001b[1;33m,\u001b[0m\u001b[1;33m\u001b[0m\u001b[1;33m\u001b[0m\u001b[0m\n",
      "\u001b[1;32m~\\anaconda3\\lib\\site-packages\\pandas\\io\\formats\\format.py\u001b[0m in \u001b[0;36mto_csv\u001b[1;34m(self, path_or_buf, encoding, sep, columns, index_label, mode, compression, quoting, quotechar, line_terminator, chunksize, date_format, doublequote, escapechar, errors, storage_options)\u001b[0m\n\u001b[0;32m   1178\u001b[0m             \u001b[0mformatter\u001b[0m\u001b[1;33m=\u001b[0m\u001b[0mself\u001b[0m\u001b[1;33m.\u001b[0m\u001b[0mfmt\u001b[0m\u001b[1;33m,\u001b[0m\u001b[1;33m\u001b[0m\u001b[1;33m\u001b[0m\u001b[0m\n\u001b[0;32m   1179\u001b[0m         )\n\u001b[1;32m-> 1180\u001b[1;33m         \u001b[0mcsv_formatter\u001b[0m\u001b[1;33m.\u001b[0m\u001b[0msave\u001b[0m\u001b[1;33m(\u001b[0m\u001b[1;33m)\u001b[0m\u001b[1;33m\u001b[0m\u001b[1;33m\u001b[0m\u001b[0m\n\u001b[0m\u001b[0;32m   1181\u001b[0m \u001b[1;33m\u001b[0m\u001b[0m\n\u001b[0;32m   1182\u001b[0m         \u001b[1;32mif\u001b[0m \u001b[0mcreated_buffer\u001b[0m\u001b[1;33m:\u001b[0m\u001b[1;33m\u001b[0m\u001b[1;33m\u001b[0m\u001b[0m\n",
      "\u001b[1;32m~\\anaconda3\\lib\\site-packages\\pandas\\io\\formats\\csvs.py\u001b[0m in \u001b[0;36msave\u001b[1;34m(self)\u001b[0m\n\u001b[0;32m    239\u001b[0m         \"\"\"\n\u001b[0;32m    240\u001b[0m         \u001b[1;31m# apply compression and byte/text conversion\u001b[0m\u001b[1;33m\u001b[0m\u001b[1;33m\u001b[0m\u001b[0m\n\u001b[1;32m--> 241\u001b[1;33m         with get_handle(\n\u001b[0m\u001b[0;32m    242\u001b[0m             \u001b[0mself\u001b[0m\u001b[1;33m.\u001b[0m\u001b[0mfilepath_or_buffer\u001b[0m\u001b[1;33m,\u001b[0m\u001b[1;33m\u001b[0m\u001b[1;33m\u001b[0m\u001b[0m\n\u001b[0;32m    243\u001b[0m             \u001b[0mself\u001b[0m\u001b[1;33m.\u001b[0m\u001b[0mmode\u001b[0m\u001b[1;33m,\u001b[0m\u001b[1;33m\u001b[0m\u001b[1;33m\u001b[0m\u001b[0m\n",
      "\u001b[1;32m~\\anaconda3\\lib\\site-packages\\pandas\\io\\common.py\u001b[0m in \u001b[0;36mget_handle\u001b[1;34m(path_or_buf, mode, encoding, compression, memory_map, is_text, errors, storage_options)\u001b[0m\n\u001b[0;32m    784\u001b[0m         \u001b[1;32mif\u001b[0m \u001b[0mioargs\u001b[0m\u001b[1;33m.\u001b[0m\u001b[0mencoding\u001b[0m \u001b[1;32mand\u001b[0m \u001b[1;34m\"b\"\u001b[0m \u001b[1;32mnot\u001b[0m \u001b[1;32min\u001b[0m \u001b[0mioargs\u001b[0m\u001b[1;33m.\u001b[0m\u001b[0mmode\u001b[0m\u001b[1;33m:\u001b[0m\u001b[1;33m\u001b[0m\u001b[1;33m\u001b[0m\u001b[0m\n\u001b[0;32m    785\u001b[0m             \u001b[1;31m# Encoding\u001b[0m\u001b[1;33m\u001b[0m\u001b[1;33m\u001b[0m\u001b[0m\n\u001b[1;32m--> 786\u001b[1;33m             handle = open(\n\u001b[0m\u001b[0;32m    787\u001b[0m                 \u001b[0mhandle\u001b[0m\u001b[1;33m,\u001b[0m\u001b[1;33m\u001b[0m\u001b[1;33m\u001b[0m\u001b[0m\n\u001b[0;32m    788\u001b[0m                 \u001b[0mioargs\u001b[0m\u001b[1;33m.\u001b[0m\u001b[0mmode\u001b[0m\u001b[1;33m,\u001b[0m\u001b[1;33m\u001b[0m\u001b[1;33m\u001b[0m\u001b[0m\n",
      "\u001b[1;31mPermissionError\u001b[0m: [Errno 13] Permission denied: 'output.csv'"
     ]
    }
   ],
   "source": [
    "pd.DataFrame(matrix_sequence).to_csv(r'output.csv')"
   ]
  },
  {
   "cell_type": "code",
   "execution_count": 15,
   "id": "6336ba20-917a-42bc-8e7d-1e0c2c2a3aa9",
   "metadata": {},
   "outputs": [
    {
     "name": "stdout",
     "output_type": "stream",
     "text": [
      "The number of columns that are with the same value is : 0\n",
      "The good points number : 0\n",
      "The bad points number : 106\n",
      "12\n"
     ]
    },
    {
     "data": {
      "text/plain": [
       "[False,\n",
       " False,\n",
       " False,\n",
       " False,\n",
       " False,\n",
       " False,\n",
       " False,\n",
       " False,\n",
       " False,\n",
       " False,\n",
       " False,\n",
       " False]"
      ]
     },
     "execution_count": 15,
     "metadata": {},
     "output_type": "execute_result"
    }
   ],
   "source": [
    "def evaluation(matrix_sequence):\n",
    "    num_rows, num_columns = matrix_sequence.shape\n",
    "    same_value_columns = []\n",
    "    \n",
    "    #COUNT THE GOOD POINTS\n",
    "    for col in range(num_columns):\n",
    "        column_values = matrix_sequence[:, col]\n",
    "        is_same = all(column_values == column_values[0])\n",
    "        same_value_columns.append(is_same)\n",
    "\n",
    "    count_same_value_columns = np.count_nonzero(same_value_columns)\n",
    "        \n",
    "    good_points = num_columns * count_same_value_columns\n",
    "    \n",
    "    #COUNT THE BAD POINTS '_'\n",
    "    \n",
    "    bad_points = np.count_nonzero(matrix_sequence == GRAP_SIMBOL)\n",
    "    \n",
    "    print(f\"The number of columns that are with the same value is : {count_same_value_columns}\")\n",
    "    print(f\"The good points number : {good_points}\")\n",
    "    print(f\"The bad points number : {bad_points}\")\n",
    "    print(num_columns)\n",
    "    return same_value_columns\n",
    "\n",
    "\n",
    "matrix_sequence[]\n",
    "evaluation(matrix_sequence)\n"
   ]
  },
  {
   "cell_type": "code",
   "execution_count": null,
   "id": "d1f105bd-9c7e-4668-9f90-21009e017810",
   "metadata": {},
   "outputs": [],
   "source": []
  }
 ],
 "metadata": {
  "kernelspec": {
   "display_name": "Python 3 (ipykernel)",
   "language": "python",
   "name": "python3"
  },
  "language_info": {
   "codemirror_mode": {
    "name": "ipython",
    "version": 3
   },
   "file_extension": ".py",
   "mimetype": "text/x-python",
   "name": "python",
   "nbconvert_exporter": "python",
   "pygments_lexer": "ipython3",
   "version": "3.9.13"
  }
 },
 "nbformat": 4,
 "nbformat_minor": 5
}
