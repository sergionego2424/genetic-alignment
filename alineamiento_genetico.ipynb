{
 "cells": [
  {
   "cell_type": "code",
   "execution_count": 1,
   "id": "8778bf83-cd55-4835-a59a-c6654a1ad295",
   "metadata": {},
   "outputs": [],
   "source": [
    "import numpy as np\n",
    "import matplotlib.pyplot as plt\n",
    "import random\n",
    "import pandas as pd\n",
    "import os\n",
    "from array import array"
   ]
  },
  {
   "cell_type": "markdown",
   "id": "4ce8cfdb-7263-4fac-a2db-aa1a454e9bf3",
   "metadata": {},
   "source": [
    "### GLOBAL VARIABLES"
   ]
  },
  {
   "cell_type": "code",
   "execution_count": 2,
   "id": "c329fedd-3b6b-4acf-99ba-4359079a7c93",
   "metadata": {},
   "outputs": [],
   "source": [
    "GRAP_SIMBOL = '_'\n",
    "\n",
    "# Specify the path to your text file\n",
    "SEQUENCE_FILE = r'C:\\Users\\Sergio\\Documents\\Sergio Lopez\\Universidad\\6to semestre\\Analisis y modelacion de sistemas\\Alineamineto genetico\\Secuencias.txt'\n",
    "#SEQUENCE_FILE = r'C:\\Users\\Sergio\\Documents\\Sergio Lopez\\Universidad\\6to semestre\\Analisis y modelacion de sistemas\\Alineamineto genetico\\Secuencias_Nombres.txt'"
   ]
  },
  {
   "cell_type": "markdown",
   "id": "f045a5fc-b8c4-4af5-a728-30c7693970f9",
   "metadata": {},
   "source": [
    "### Code"
   ]
  },
  {
   "cell_type": "code",
   "execution_count": 3,
   "id": "c5eb9af5-8a09-4b88-9974-9ad7e32f205a",
   "metadata": {},
   "outputs": [],
   "source": [
    "def insert_randomly(input_string, characters_to_insert):\n",
    "    new_string = list(input_string) \n",
    "    for char in characters_to_insert:\n",
    "        index = random.randint(0, len(new_string))\n",
    "        new_string.insert(index, char)\n",
    "    return ''.join(new_string)"
   ]
  },
  {
   "cell_type": "code",
   "execution_count": 4,
   "id": "9134ce46-20d2-4f48-aedf-dd0d2c4293a8",
   "metadata": {},
   "outputs": [],
   "source": [
    "class Cell :\n",
    "    \n",
    "    def __init__(self, sequence):\n",
    "        self.sequence = sequence\n",
    "        self.width = len(sequence)\n",
    "        self.gaps_num = 0\n",
    "    \n",
    "    def muatate(self, gaps_num):\n",
    "        \n",
    "        for i in range(gaps_num) : \n",
    "            self.sequence = insert_randomly(self.sequence , GRAP_SIMBOL)#CHANGE THE 'M' CHARACTER TO '_'\n",
    "        self.width = len(self.sequence)"
   ]
  },
  {
   "cell_type": "code",
   "execution_count": 5,
   "id": "9595eefb-4f66-4133-939e-04c57fea4f8c",
   "metadata": {},
   "outputs": [],
   "source": [
    "# Define a function to parse the sequences from the text file\n",
    "def parse_sequences(file_path):\n",
    "    sequences = []\n",
    "    with open(file_path, 'r') as file:\n",
    "        sequence = \"\"\n",
    "        for line in file:\n",
    "            line = line.strip()\n",
    "            if line.startswith(\">\"):\n",
    "                if sequence:\n",
    "                    sequences.append(sequence)\n",
    "                sequence = \"\"\n",
    "            else:\n",
    "                sequence += line\n",
    "        if sequence:\n",
    "            sequences.append(sequence)\n",
    "    return np.array(sequences)\n"
   ]
  },
  {
   "cell_type": "code",
   "execution_count": 6,
   "id": "0d987ca7-3e05-4cb2-a856-17cd2c9413f2",
   "metadata": {},
   "outputs": [],
   "source": [
    "\n",
    "def create_main_data_set(SEQUENCE_FILE,sequence_array_parameter = np.array([]), mutate_lavel = 2):\n",
    "    #READ THE FILE AND EXTRACT HOW MANY CELLS IT HAS INVOLVE\n",
    "\n",
    "    cells_array = np.array([])\n",
    "    \n",
    "    \n",
    "    \n",
    "    if len(sequence_array_parameter) == 0:\n",
    "        # Call the function to parse sequences and store them in a NumPy array\n",
    "        sequences_array = parse_sequences(SEQUENCE_FILE)\n",
    "    \n",
    "    \n",
    "    for i , sequence_string in enumerate(sequences_array):\n",
    "        random_word = sequence_string\n",
    "        #random_word = array_words[0] #REMOVE THIS LINE AND DISCOMMENT THE LAST ONE\n",
    "        cell = Cell(random_word)\n",
    "        \n",
    "        if mutate_lavel == 1:\n",
    "            graps_num = random.randint(0, round(len(cell.sequence) / 4) )\n",
    "        if mutate_lavel == 2:\n",
    "            graps_num = random.randint(0, round(len(cell.sequence) / 2) )\n",
    "        \n",
    "        cell.muatate(graps_num) \n",
    "        cell.sequence\n",
    "        \n",
    "        cells_array = np.append(cells_array, cell)\n",
    "        \n",
    "    return cells_array\n",
    "        \n",
    "#cells_array = create_main_data_set(SEQUENCE_FILE, mutate_lavel = 1)\n",
    "#cells_array"
   ]
  },
  {
   "cell_type": "code",
   "execution_count": 7,
   "id": "ec7fd110-ee86-46fe-aaa7-a6d5788af6bc",
   "metadata": {},
   "outputs": [],
   "source": [
    "def create_matrix_sequence(cells_array):\n",
    "    array_cells_width = np.array([cell.width for cell in cells_array])\n",
    "    \n",
    "    #MODIFY THE * TO _ \n",
    "    matrix_sequence = np.array([[GRAP_SIMBOL for _ in range(max(array_cells_width))] for _ in range(len(cells_array))])\n",
    "    \n",
    "    matrix_cells_sequence = [list(cell.sequence) for cell in cells_array]\n",
    "    \n",
    "\n",
    "    for i, row in enumerate(matrix_cells_sequence):\n",
    "        for j, column in enumerate(matrix_cells_sequence[i]):\n",
    "            matrix_sequence[i][j] = matrix_cells_sequence[i][j]\n",
    "    \n",
    "    return matrix_sequence\n",
    "#matrix_sequence = create_matrix_sequence(cells_array)\n",
    "\n",
    "#print(matrix_sequence.shape)\n",
    "#matrix_sequence"
   ]
  },
  {
   "cell_type": "code",
   "execution_count": 8,
   "id": "6336ba20-917a-42bc-8e7d-1e0c2c2a3aa9",
   "metadata": {},
   "outputs": [],
   "source": [
    "def evaluation(matrix_sequence):\n",
    "    num_rows, num_columns = matrix_sequence.shape\n",
    "    same_value_columns = []\n",
    "    \n",
    "    #COUNT THE GOOD POINTS\n",
    "    for col in range(num_columns):\n",
    "        column_values = matrix_sequence[:, col]\n",
    "        if column_values[0] != GRAP_SIMBOL :\n",
    "            is_same = all(column_values == column_values[0])\n",
    "            same_value_columns.append(is_same)\n",
    "\n",
    "    #print(same_value_columns)\n",
    "    count_same_value_columns = np.count_nonzero(same_value_columns)\n",
    "        \n",
    "    good_points = num_rows * count_same_value_columns\n",
    "    \n",
    "    #COUNT THE BAD POINTS '_'\n",
    "    \n",
    "    bad_points = np.count_nonzero(matrix_sequence == GRAP_SIMBOL)\n",
    "    \n",
    "    return good_points , bad_points\n",
    "\n",
    "\n",
    "#matrix_sequence[ : , 1] = 'A' #JUST TO MAKE TESTES\n",
    "\n",
    "#good_points , bad_points = evaluation(matrix_sequence)\n",
    "\n",
    "\n",
    "\n",
    "#print(f\"The good points number : {good_points}\")\n",
    "#print(f\"The bad points number : {bad_points}\")"
   ]
  },
  {
   "cell_type": "code",
   "execution_count": 9,
   "id": "74207c90-b68d-423d-8468-cecde2aff56b",
   "metadata": {},
   "outputs": [],
   "source": [
    "def iterator(N_ITERATIONS, data_set = []):\n",
    "    universe = []\n",
    "    \n",
    "    for i in range(N_ITERATIONS):\n",
    "        if len(data_set) == 0:\n",
    "            cells_array = create_main_data_set(SEQUENCE_FILE, mutate_lavel = 1)\n",
    "        else:\n",
    "            cells_array = data_set\n",
    "        matrix_sequence = create_matrix_sequence(cells_array)\n",
    "        good_points , bad_points = evaluation(matrix_sequence)\n",
    "        content = {\n",
    "            'matrix_sequence' : matrix_sequence,\n",
    "            'good_points' : good_points,\n",
    "            'bad_points' : bad_points\n",
    "        }\n",
    "        \n",
    "        universe.append(content)\n",
    "    return universe\n",
    "    \n",
    "result = iterator(5)"
   ]
  },
  {
   "cell_type": "code",
   "execution_count": 32,
   "id": "d78a0a4d-d63a-42bf-a072-a1a0662c5c10",
   "metadata": {},
   "outputs": [
    {
     "name": "stdout",
     "output_type": "stream",
     "text": [
      "[['_', 'A', 'A', 'G', '_', 'T', 'A', 'G', 'G', 'A', '_', 'A', 'T', '_', 'A', 'A', 'T', '_', 'A', 'T', 'C', '_', 'T', 'T', 'A', 'T', 'C', 'A', 'T', 'T', '_', 'A', 'T', '_', 'A', 'G', 'A', '_', 'T', 'A', 'A', 'A', 'A', 'A', '_', 'C', 'C', 'T', 'T', 'C', 'T', '_', 'G', 'A', 'A', 'T', 'T', '_', '_', 'T', 'G', 'C', 'T', 'T', 'A', '_', 'G', 'T', 'G', '_', 'T', 'G', 'T', '_', 'A', 'T', 'A', '_', '_', 'C', 'G', 'A', 'C', 'T', '_', 'A', 'G', 'A', 'C', 'A', 'T', 'A', 'T', 'A', 'T', '_', 'C', 'A', 'G', 'C', 'T', 'C', 'G', 'C', 'C', 'G', '_', 'A', '_', 'T', 'T', 'A', 'T', 'T', 'T', '_', 'G', 'G', '_', '_', 'A', 'T', 'T', 'A', '_', 'T', 'T', 'C', 'C', 'C', 'T', 'G', '_', '_', '_', '_', '_', '_', '_', '_', '_', '_', '_', '_', '_', '_', '_', '_', '_', '_', '_', '_', '_', '_', '_', '_', '_', '_', '_', '_', '_', '_', '_', '_', '_', '_', '_', '_', '_', '_', '_', '_', '_', '_', '_', '_'], ['C', 'A', 'G', 'T', 'A', 'A', 'A', 'G', 'A', 'G', 'T', 'G', '_', 'G', 'A', 'T', 'G', 'T', 'A', 'A', 'G', 'A', 'A', 'C', 'C', 'G', 'T', 'C', 'C', 'G', 'A', 'T', 'C', 'T', 'A', 'C', 'C', 'A', 'G', 'A', 'T', 'G', 'T', 'G', 'A', 'T', 'A', 'G', 'A', 'G', 'G', 'T', 'T', 'G', 'C', 'C', 'A', 'G', 'T', 'A', 'A', 'A', 'A', 'A', 'A', 'T', 'T', 'G', 'C', 'A', 'T', 'A', '_', 'A', 'T', 'A', 'A', 'T', 'T', 'G', 'A', 'T', 'T', 'A', 'A', 'T', 'C', 'C', 'T', 'T', 'T', 'A', 'A', 'T', 'A', 'T', 'T', 'G', 'T', 'T', 'T', 'A', 'G', 'A', 'A', 'T', '_', 'A', 'T', 'A', 'T', 'C', 'C', 'G', 'T', 'C', 'A', 'G', 'A', 'T', 'A', 'A', 'T', 'C', 'C', 'T', '_', 'A', 'A', 'A', 'A', 'A', 'T', 'A', 'A', 'C', 'G', 'A', 'T', 'A', 'T', 'G', 'A', 'T', 'G', 'G', 'C', 'G', 'G', 'A', 'A', 'A', 'T', 'C', 'G', 'T', 'C', '_', '_', '_', '_', '_', '_', '_', '_', '_', '_', '_', '_', '_', '_', '_', '_', '_', '_', '_'], ['C', 'T', '_', 'T', 'C', 'A', 'A', 'T', 'T', 'A', 'C', 'C', 'C', 'T', 'G', 'C', 'T', 'G', 'A', 'C', 'G', 'C', 'G', 'A', 'G', 'A', 'T', 'A', 'C', 'C', 'T', 'T', 'A', 'T', 'G', 'C', 'A', 'T', 'C', 'G', 'A', 'A', 'G', 'G', 'T', 'A', 'A', 'A', 'G', 'C', 'G', 'A', 'T', 'G', 'A', 'A', 'T', 'T', 'T', 'A', 'T', 'C', 'C', 'A', 'A', 'G', 'G', 'T', 'T', 'T', 'T', 'A', 'A', 'T', 'T', 'T', 'G', '_', '_', '_', '_', '_', '_', '_', '_', '_', '_', '_', '_', '_', '_', '_', '_', '_', '_', '_', '_', '_', '_', '_', '_', '_', '_', '_', '_', '_', '_', '_', '_', '_', '_', '_', '_', '_', '_', '_', '_', '_', '_', '_', '_', '_', '_', '_', '_', '_', '_', '_', '_', '_', '_', '_', '_', '_', '_', '_', '_', '_', '_', '_', '_', '_', '_', '_', '_', '_', '_', '_', '_', '_', '_', '_', '_', '_', '_', '_', '_', '_', '_', '_', '_', '_', '_', '_', '_', '_', '_', '_', '_', '_', '_', '_', '_', '_', '_', '_'], ['_', 'A', 'A', 'G', 'T', '_', 'A', 'G', 'G', 'A', 'A', '_', 'T', '_', 'A', 'A', 'T', 'A', 'T', 'C', 'T', 'T', 'A', 'T', 'C', 'A', 'T', 'T', 'A', 'T', 'A', 'G', 'A', 'T', 'A', 'A', 'A', 'A', 'A', 'C', 'C', 'T', 'T', '_', 'C', '_', 'T', 'G', 'A', 'A', 'T', 'T', 'T', 'G', 'C', 'T', 'T', 'A', '_', 'G', 'T', 'G', 'T', 'G', 'T', 'A', '_', 'T', 'A', 'C', 'G', 'A', 'C', 'T', 'A', 'G', 'A', 'C', 'A', 'T', '_', 'A', 'T', 'A', '_', 'T', 'C', 'A', 'G', 'C', 'T', 'C', 'G', 'C', 'C', 'G', 'A', 'T', 'T', 'A', '_', 'T', 'T', 'T', 'G', 'G', 'A', 'T', 'T', 'A', 'T', 'T', 'C', 'C', 'C', 'T', 'G', '_', '_', '_', '_', '_', '_', '_', '_', '_', '_', '_', '_', '_', '_', '_', '_', '_', '_', '_', '_', '_', '_', '_', '_', '_', '_', '_', '_', '_', '_', '_', '_', '_', '_', '_', '_', '_', '_', '_', '_', '_', '_', '_', '_', '_', '_', '_', '_', '_', '_', '_', '_', '_', '_', '_', '_', '_', '_', '_'], ['C', '_', 'A', 'G', 'T', 'A', 'A', 'A', 'G', '_', 'A', '_', 'G', 'T', 'G', 'G', 'A', 'T', 'G', 'T', 'A', 'A', 'G', 'A', '_', 'A', 'C', 'C', 'G', 'T', 'C', '_', 'C', 'G', '_', 'A', 'T', 'C', 'T', 'A', '_', 'C', 'C', 'A', 'G', 'A', 'T', 'G', 'T', 'G', '_', 'A', 'T', 'A', 'G', '_', 'A', 'G', 'G', 'T', '_', 'T', 'G', 'C', 'C', 'A', 'G', '_', 'T', 'A', 'A', 'A', 'A', 'A', 'A', '_', 'T', 'T', '_', 'G', 'C', 'A', 'T', 'A', 'A', '_', 'T', 'A', 'A', 'T', 'T', 'G', 'A', 'T', '_', 'T', 'A', 'A', 'T', 'C', 'C', 'T', 'T', '_', 'T', '_', 'A', 'A', 'T', 'A', 'T', 'T', 'G', 'T', 'T', '_', 'T', 'A', 'G', 'A', 'A', 'T', 'A', 'T', 'A', 'T', 'C', 'C', '_', 'G', 'T', 'C', 'A', 'G', 'A', 'T', 'A', 'A', 'T', 'C', 'C', 'T', 'A', 'A', '_', 'A', 'A', 'A', 'T', 'A', '_', 'A', 'C', 'G', 'A', 'T', 'A', 'T', 'G', '_', 'A', 'T', 'G', 'G', 'C', '_', 'G', 'G', 'A', 'A', 'A', 'T', 'C', 'G', 'T', 'C'], ['C', '_', 'T', 'T', 'C', 'A', 'A', 'T', 'T', 'A', 'C', 'C', 'C', 'T', 'G', 'C', 'T', 'G', 'A', 'C', 'G', 'C', 'G', 'A', 'G', 'A', 'T', '_', 'A', 'C', 'C', 'T', 'T', '_', 'A', 'T', 'G', 'C', 'A', 'T', 'C', 'G', 'A', 'A', 'G', '_', 'G', 'T', 'A', 'A', 'A', 'G', '_', 'C', 'G', '_', 'A', 'T', 'G', 'A', 'A', 'T', 'T', 'T', 'A', 'T', 'C', 'C', 'A', '_', 'A', 'G', 'G', 'T', 'T', 'T', 'T', '_', 'A', 'A', 'T', 'T', 'T', 'G', '_', '_', '_', '_', '_', '_', '_', '_', '_', '_', '_', '_', '_', '_', '_', '_', '_', '_', '_', '_', '_', '_', '_', '_', '_', '_', '_', '_', '_', '_', '_', '_', '_', '_', '_', '_', '_', '_', '_', '_', '_', '_', '_', '_', '_', '_', '_', '_', '_', '_', '_', '_', '_', '_', '_', '_', '_', '_', '_', '_', '_', '_', '_', '_', '_', '_', '_', '_', '_', '_', '_', '_', '_', '_', '_', '_', '_', '_', '_', '_', '_', '_', '_', '_', '_', '_', '_', '_', '_', '_', '_', '_']]\n",
      "['_AAG_TAGGA_AT_AAT_ATC_TTATCATT_AT_AGA_TAAAAA_CCTTCT_GAATT__TGCTTA_GTG_TGT_ATA__CGACT_AGACATATAT_CAGCTCGCCG_A_TTATTT_GG__ATTA_TTCCCTG____________________________________________', 'CAGTAAAGAGTG_GATGTAAGAACCGTCCGATCTACCAGATGTGATAGAGGTTGCCAGTAAAAAATTGCATA_ATAATTGATTAATCCTTTAATATTGTTTAGAAT_ATATCCGTCAGATAATCCT_AAAAATAACGATATGATGGCGGAAATCGTC___________________', 'CT_TCAATTACCCTGCTGACGCGAGATACCTTATGCATCGAAGGTAAAGCGATGAATTTATCCAAGGTTTTAATTTG___________________________________________________________________________________________________', '_AAGT_AGGAA_T_AATATCTTATCATTATAGATAAAAACCTT_C_TGAATTTGCTTA_GTGTGTA_TACGACTAGACAT_ATA_TCAGCTCGCCGATTA_TTTGGATTATTCCCTG___________________________________________________________', 'C_AGTAAAG_A_GTGGATGTAAGA_ACCGTC_CG_ATCTA_CCAGATGTG_ATAG_AGGT_TGCCAG_TAAAAAA_TT_GCATAA_TAATTGAT_TAATCCTT_T_AATATTGTT_TAGAATATATCC_GTCAGATAATCCTAA_AAATA_ACGATATG_ATGGC_GGAAATCGTC', 'C_TTCAATTACCCTGCTGACGCGAGAT_ACCTT_ATGCATCGAAG_GTAAAG_CG_ATGAATTTATCCA_AGGTTTT_AATTTG____________________________________________________________________________________________']\n",
      "The lenght of the matrix is : 6\n"
     ]
    },
    {
     "ename": "AttributeError",
     "evalue": "'str' object has no attribute 'width'",
     "output_type": "error",
     "traceback": [
      "\u001b[1;31m---------------------------------------------------------------------------\u001b[0m",
      "\u001b[1;31mAttributeError\u001b[0m                            Traceback (most recent call last)",
      "\u001b[1;32m~\\AppData\\Local\\Temp\\ipykernel_16376\\2061109318.py\u001b[0m in \u001b[0;36m<module>\u001b[1;34m\u001b[0m\n\u001b[0;32m     35\u001b[0m \u001b[1;33m\u001b[0m\u001b[0m\n\u001b[0;32m     36\u001b[0m     \u001b[0mcore_iterations\u001b[0m\u001b[1;33m(\u001b[0m\u001b[0mmutation\u001b[0m \u001b[1;33m,\u001b[0m \u001b[0mnumber_iterations\u001b[0m \u001b[1;33m+\u001b[0m \u001b[1;36m1\u001b[0m \u001b[1;33m,\u001b[0m \u001b[0mmax_iterations\u001b[0m \u001b[1;33m)\u001b[0m\u001b[1;33m\u001b[0m\u001b[1;33m\u001b[0m\u001b[0m\n\u001b[1;32m---> 37\u001b[1;33m \u001b[0mcore_iterations\u001b[0m\u001b[1;33m(\u001b[0m\u001b[0mresult\u001b[0m \u001b[1;33m,\u001b[0m \u001b[1;36m0\u001b[0m\u001b[1;33m,\u001b[0m \u001b[1;36m4\u001b[0m\u001b[1;33m)\u001b[0m\u001b[1;33m\u001b[0m\u001b[1;33m\u001b[0m\u001b[0m\n\u001b[0m",
      "\u001b[1;32m~\\AppData\\Local\\Temp\\ipykernel_16376\\2061109318.py\u001b[0m in \u001b[0;36mcore_iterations\u001b[1;34m(items, number_iterations, max_iterations)\u001b[0m\n\u001b[0;32m     29\u001b[0m     \u001b[0mprint\u001b[0m\u001b[1;33m(\u001b[0m\u001b[0mnew_matrix\u001b[0m\u001b[1;33m)\u001b[0m\u001b[1;33m\u001b[0m\u001b[1;33m\u001b[0m\u001b[0m\n\u001b[0;32m     30\u001b[0m     \u001b[0mprint\u001b[0m\u001b[1;33m(\u001b[0m\u001b[1;34mf\"The lenght of the matrix is : {len(new_matrix)}\"\u001b[0m\u001b[1;33m)\u001b[0m\u001b[1;33m\u001b[0m\u001b[1;33m\u001b[0m\u001b[0m\n\u001b[1;32m---> 31\u001b[1;33m     \u001b[0mmutation\u001b[0m \u001b[1;33m=\u001b[0m \u001b[0miterator\u001b[0m\u001b[1;33m(\u001b[0m\u001b[1;36m5\u001b[0m\u001b[1;33m,\u001b[0m \u001b[0mnew_matrix\u001b[0m\u001b[1;33m)\u001b[0m\u001b[1;33m\u001b[0m\u001b[1;33m\u001b[0m\u001b[0m\n\u001b[0m\u001b[0;32m     32\u001b[0m     \u001b[0mprint\u001b[0m\u001b[1;33m(\u001b[0m\u001b[1;34m\"------------------\"\u001b[0m\u001b[1;33m)\u001b[0m\u001b[1;33m\u001b[0m\u001b[1;33m\u001b[0m\u001b[0m\n\u001b[0;32m     33\u001b[0m     \u001b[0mprint\u001b[0m\u001b[1;33m(\u001b[0m\u001b[0mmutation\u001b[0m\u001b[1;33m)\u001b[0m\u001b[1;33m\u001b[0m\u001b[1;33m\u001b[0m\u001b[0m\n",
      "\u001b[1;32m~\\AppData\\Local\\Temp\\ipykernel_16376\\3843203051.py\u001b[0m in \u001b[0;36miterator\u001b[1;34m(N_ITERATIONS, data_set)\u001b[0m\n\u001b[0;32m      7\u001b[0m         \u001b[1;32melse\u001b[0m\u001b[1;33m:\u001b[0m\u001b[1;33m\u001b[0m\u001b[1;33m\u001b[0m\u001b[0m\n\u001b[0;32m      8\u001b[0m             \u001b[0mcells_array\u001b[0m \u001b[1;33m=\u001b[0m \u001b[0mdata_set\u001b[0m\u001b[1;33m\u001b[0m\u001b[1;33m\u001b[0m\u001b[0m\n\u001b[1;32m----> 9\u001b[1;33m         \u001b[0mmatrix_sequence\u001b[0m \u001b[1;33m=\u001b[0m \u001b[0mcreate_matrix_sequence\u001b[0m\u001b[1;33m(\u001b[0m\u001b[0mcells_array\u001b[0m\u001b[1;33m)\u001b[0m\u001b[1;33m\u001b[0m\u001b[1;33m\u001b[0m\u001b[0m\n\u001b[0m\u001b[0;32m     10\u001b[0m         \u001b[0mgood_points\u001b[0m \u001b[1;33m,\u001b[0m \u001b[0mbad_points\u001b[0m \u001b[1;33m=\u001b[0m \u001b[0mevaluation\u001b[0m\u001b[1;33m(\u001b[0m\u001b[0mmatrix_sequence\u001b[0m\u001b[1;33m)\u001b[0m\u001b[1;33m\u001b[0m\u001b[1;33m\u001b[0m\u001b[0m\n\u001b[0;32m     11\u001b[0m         content = {\n",
      "\u001b[1;32m~\\AppData\\Local\\Temp\\ipykernel_16376\\619290389.py\u001b[0m in \u001b[0;36mcreate_matrix_sequence\u001b[1;34m(cells_array)\u001b[0m\n\u001b[0;32m      1\u001b[0m \u001b[1;32mdef\u001b[0m \u001b[0mcreate_matrix_sequence\u001b[0m\u001b[1;33m(\u001b[0m\u001b[0mcells_array\u001b[0m\u001b[1;33m)\u001b[0m\u001b[1;33m:\u001b[0m\u001b[1;33m\u001b[0m\u001b[1;33m\u001b[0m\u001b[0m\n\u001b[1;32m----> 2\u001b[1;33m     \u001b[0marray_cells_width\u001b[0m \u001b[1;33m=\u001b[0m \u001b[0mnp\u001b[0m\u001b[1;33m.\u001b[0m\u001b[0marray\u001b[0m\u001b[1;33m(\u001b[0m\u001b[1;33m[\u001b[0m\u001b[0mcell\u001b[0m\u001b[1;33m.\u001b[0m\u001b[0mwidth\u001b[0m \u001b[1;32mfor\u001b[0m \u001b[0mcell\u001b[0m \u001b[1;32min\u001b[0m \u001b[0mcells_array\u001b[0m\u001b[1;33m]\u001b[0m\u001b[1;33m)\u001b[0m\u001b[1;33m\u001b[0m\u001b[1;33m\u001b[0m\u001b[0m\n\u001b[0m\u001b[0;32m      3\u001b[0m \u001b[1;33m\u001b[0m\u001b[0m\n\u001b[0;32m      4\u001b[0m     \u001b[1;31m#MODIFY THE * TO _\u001b[0m\u001b[1;33m\u001b[0m\u001b[1;33m\u001b[0m\u001b[0m\n\u001b[0;32m      5\u001b[0m     \u001b[0mmatrix_sequence\u001b[0m \u001b[1;33m=\u001b[0m \u001b[0mnp\u001b[0m\u001b[1;33m.\u001b[0m\u001b[0marray\u001b[0m\u001b[1;33m(\u001b[0m\u001b[1;33m[\u001b[0m\u001b[1;33m[\u001b[0m\u001b[0mGRAP_SIMBOL\u001b[0m \u001b[1;32mfor\u001b[0m \u001b[0m_\u001b[0m \u001b[1;32min\u001b[0m \u001b[0mrange\u001b[0m\u001b[1;33m(\u001b[0m\u001b[0mmax\u001b[0m\u001b[1;33m(\u001b[0m\u001b[0marray_cells_width\u001b[0m\u001b[1;33m)\u001b[0m\u001b[1;33m)\u001b[0m\u001b[1;33m]\u001b[0m \u001b[1;32mfor\u001b[0m \u001b[0m_\u001b[0m \u001b[1;32min\u001b[0m \u001b[0mrange\u001b[0m\u001b[1;33m(\u001b[0m\u001b[0mlen\u001b[0m\u001b[1;33m(\u001b[0m\u001b[0mcells_array\u001b[0m\u001b[1;33m)\u001b[0m\u001b[1;33m)\u001b[0m\u001b[1;33m]\u001b[0m\u001b[1;33m)\u001b[0m\u001b[1;33m\u001b[0m\u001b[1;33m\u001b[0m\u001b[0m\n",
      "\u001b[1;32m~\\AppData\\Local\\Temp\\ipykernel_16376\\619290389.py\u001b[0m in \u001b[0;36m<listcomp>\u001b[1;34m(.0)\u001b[0m\n\u001b[0;32m      1\u001b[0m \u001b[1;32mdef\u001b[0m \u001b[0mcreate_matrix_sequence\u001b[0m\u001b[1;33m(\u001b[0m\u001b[0mcells_array\u001b[0m\u001b[1;33m)\u001b[0m\u001b[1;33m:\u001b[0m\u001b[1;33m\u001b[0m\u001b[1;33m\u001b[0m\u001b[0m\n\u001b[1;32m----> 2\u001b[1;33m     \u001b[0marray_cells_width\u001b[0m \u001b[1;33m=\u001b[0m \u001b[0mnp\u001b[0m\u001b[1;33m.\u001b[0m\u001b[0marray\u001b[0m\u001b[1;33m(\u001b[0m\u001b[1;33m[\u001b[0m\u001b[0mcell\u001b[0m\u001b[1;33m.\u001b[0m\u001b[0mwidth\u001b[0m \u001b[1;32mfor\u001b[0m \u001b[0mcell\u001b[0m \u001b[1;32min\u001b[0m \u001b[0mcells_array\u001b[0m\u001b[1;33m]\u001b[0m\u001b[1;33m)\u001b[0m\u001b[1;33m\u001b[0m\u001b[1;33m\u001b[0m\u001b[0m\n\u001b[0m\u001b[0;32m      3\u001b[0m \u001b[1;33m\u001b[0m\u001b[0m\n\u001b[0;32m      4\u001b[0m     \u001b[1;31m#MODIFY THE * TO _\u001b[0m\u001b[1;33m\u001b[0m\u001b[1;33m\u001b[0m\u001b[0m\n\u001b[0;32m      5\u001b[0m     \u001b[0mmatrix_sequence\u001b[0m \u001b[1;33m=\u001b[0m \u001b[0mnp\u001b[0m\u001b[1;33m.\u001b[0m\u001b[0marray\u001b[0m\u001b[1;33m(\u001b[0m\u001b[1;33m[\u001b[0m\u001b[1;33m[\u001b[0m\u001b[0mGRAP_SIMBOL\u001b[0m \u001b[1;32mfor\u001b[0m \u001b[0m_\u001b[0m \u001b[1;32min\u001b[0m \u001b[0mrange\u001b[0m\u001b[1;33m(\u001b[0m\u001b[0mmax\u001b[0m\u001b[1;33m(\u001b[0m\u001b[0marray_cells_width\u001b[0m\u001b[1;33m)\u001b[0m\u001b[1;33m)\u001b[0m\u001b[1;33m]\u001b[0m \u001b[1;32mfor\u001b[0m \u001b[0m_\u001b[0m \u001b[1;32min\u001b[0m \u001b[0mrange\u001b[0m\u001b[1;33m(\u001b[0m\u001b[0mlen\u001b[0m\u001b[1;33m(\u001b[0m\u001b[0mcells_array\u001b[0m\u001b[1;33m)\u001b[0m\u001b[1;33m)\u001b[0m\u001b[1;33m]\u001b[0m\u001b[1;33m)\u001b[0m\u001b[1;33m\u001b[0m\u001b[1;33m\u001b[0m\u001b[0m\n",
      "\u001b[1;31mAttributeError\u001b[0m: 'str' object has no attribute 'width'"
     ]
    }
   ],
   "source": [
    "#sequence_array_parameter create_main_data_set\n",
    "\n",
    "def core_iterations(items, number_iterations, max_iterations):\n",
    "    new_items = []\n",
    "    \n",
    "    if  number_iterations == 0:\n",
    "        for index, item in enumerate(items):\n",
    "            if item['good_points'] != 0:\n",
    "                new_items.append(item)\n",
    "   \n",
    "    \n",
    "    if len(new_items) == 0 : \n",
    "        new_items.append(items[0])\n",
    "        print(\"just bad points\")\n",
    "    \n",
    "    if number_iterations == max_iterations :\n",
    "        print('thats it')\n",
    "        print(items)\n",
    "        return\n",
    "    \n",
    "    \n",
    "    matrix = new_items[0]['matrix_sequence'].tolist()\n",
    "    new_matrix = []\n",
    "    print(matrix)\n",
    "    \n",
    "    for index, item in enumerate(matrix):\n",
    "            new_matrix.append(''.join(item))\n",
    "        \n",
    "    print(new_matrix)\n",
    "    print(f\"The lenght of the matrix is : {len(new_matrix)}\")\n",
    "    mutation = iterator(5, new_matrix)\n",
    "    print(\"------------------\")\n",
    "    print(mutation)\n",
    "    print(\"------------------\")\n",
    " \n",
    "    core_iterations(mutation , number_iterations + 1 , max_iterations )\n",
    "core_iterations(result , 0, 4)"
   ]
  },
  {
   "cell_type": "code",
   "execution_count": null,
   "id": "dfbe3c76-677f-425c-bc23-336cd829fef7",
   "metadata": {},
   "outputs": [],
   "source": [
    "open  = False\n",
    "for index, item in enumerate(result):\n",
    "    if item['good_points'] != 0:\n",
    "        pd.DataFrame( item['matrix_sequence'] ).to_csv(r'output.csv')\n",
    "        filename = r\"C:\\Users\\Sergio\\Documents\\Sergio Lopez\\Universidad\\6to semestre\\Analisis y modelacion de sistemas\\Alineamineto genetico\\output.csv\"\n",
    "\n",
    "        # Enclose the file path in double quotes\n",
    "        os.system('start excel.exe \"{}\"'.format(filename))\n",
    "        print(\"good points\")\n",
    "        open = True\n",
    "    \n",
    "if open == False : \n",
    "    pd.DataFrame( result[0]['matrix_sequence'] ).to_csv(r'output.csv')\n",
    "    filename = r\"C:\\Users\\Sergio\\Documents\\Sergio Lopez\\Universidad\\6to semestre\\Analisis y modelacion de sistemas\\Alineamineto genetico\\output.csv\"\n",
    "    print(\"only bad points\")\n",
    "    # Enclose the file path in double quotes\n",
    "    os.system('start excel.exe \"{}\"'.format(filename))"
   ]
  },
  {
   "cell_type": "code",
   "execution_count": null,
   "id": "b8a15eb6-512c-46bb-b1cd-c65fab733057",
   "metadata": {},
   "outputs": [],
   "source": [
    "matrix_sequence.shape"
   ]
  },
  {
   "cell_type": "code",
   "execution_count": null,
   "id": "ee1e86c0-b9b6-41d3-a429-1b282d980526",
   "metadata": {},
   "outputs": [],
   "source": [
    "#OPEN THE DATAFRAME IN EXCEL FILE\n",
    "pd.DataFrame(matrix_sequence).to_csv(r'output.csv')\n",
    "\n",
    "filename = r\"C:\\Users\\Sergio\\Documents\\Sergio Lopez\\Universidad\\6to semestre\\Analisis y modelacion de sistemas\\Alineamineto genetico\\output.csv\"\n",
    "\n",
    "# Enclose the file path in double quotes\n",
    "os.system('start excel.exe \"{}\"'.format(filename))"
   ]
  },
  {
   "cell_type": "code",
   "execution_count": null,
   "id": "e867bc19-3baa-424b-93e1-b05203971aa3",
   "metadata": {},
   "outputs": [],
   "source": []
  }
 ],
 "metadata": {
  "kernelspec": {
   "display_name": "Python 3 (ipykernel)",
   "language": "python",
   "name": "python3"
  },
  "language_info": {
   "codemirror_mode": {
    "name": "ipython",
    "version": 3
   },
   "file_extension": ".py",
   "mimetype": "text/x-python",
   "name": "python",
   "nbconvert_exporter": "python",
   "pygments_lexer": "ipython3",
   "version": "3.9.13"
  }
 },
 "nbformat": 4,
 "nbformat_minor": 5
}
